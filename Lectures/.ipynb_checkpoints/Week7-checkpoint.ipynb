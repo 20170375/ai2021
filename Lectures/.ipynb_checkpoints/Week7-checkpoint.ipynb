{
 "cells": [
  {
   "cell_type": "markdown",
   "metadata": {
    "id": "oGP26UwuTYIE"
   },
   "source": [
    "## 7주차 인공신경망 기초 - 다층 퍼셉트론(multi-perceptron) 구현"
   ]
  },
  {
   "cell_type": "markdown",
   "metadata": {
    "id": "p0p4ABCvWcql"
   },
   "source": [
    "### 4. 텐서플로우를 이용한 MLP구현"
   ]
  },
  {
   "cell_type": "code",
   "execution_count": 1,
   "metadata": {
    "id": "kbX0b8p3TAj1"
   },
   "outputs": [],
   "source": [
    "import pandas as pd\n",
    "import numpy as np\n",
    "import matplotlib.pyplot as plt\n",
    "# 텐서플로우와 케라스를 사용할 수 있도록 준비\n",
    "import tensorflow as tf         # 텐서플로우는 주로 tf라는 별명을 사용한다\n",
    "from tensorflow import keras"
   ]
  },
  {
   "cell_type": "markdown",
   "metadata": {
    "id": "9PgI6ex-Xwxo"
   },
   "source": [
    "케라스에서 제공하는 **시퀀셜**<sup>Sequential</sup> 클래스로 구현\n",
    "+ **밀집**<sup>dense</sup> 계층\n",
    "+ 각 층이 가진 활성화 함수는 시그모이드"
   ]
  },
  {
   "cell_type": "code",
   "execution_count": 2,
   "metadata": {
    "id": "fbkQSFpYW9fK"
   },
   "outputs": [],
   "source": [
    "model = keras.models.Sequential( [\n",
    "    keras.layers.Dense(6, activation='sigmoid'),\n",
    "    keras.layers.Dense(4, activation='sigmoid'),\n",
    "    keras.layers.Dense(1, activation='sigmoid'),\n",
    "])"
   ]
  },
  {
   "cell_type": "markdown",
   "metadata": {
    "id": "_wB3FRsEXcKy"
   },
   "source": [
    "모델을 사용하기 위해서는 **컴파일<sup>compile</sup>**과정\n",
    "+ 컴파일 과정에서는 최적화 방법을 지정하고, 오차 측정을 어떤 기준으로 할 것인지 지정\n",
    "+ 평균 제곱 오차를 손실함수로 사용한다면 'mse'를 손실 매개변수 loss의 인자로 지정"
   ]
  },
  {
   "cell_type": "code",
   "execution_count": 3,
   "metadata": {
    "id": "aARVmPP0XOMR"
   },
   "outputs": [],
   "source": [
    "optimizer = keras.optimizers.SGD(learning_rate=5.0)\n",
    "model.compile(optimizer=optimizer, loss='mse')"
   ]
  },
  {
   "cell_type": "code",
   "execution_count": 4,
   "metadata": {
    "id": "4zvR868LXZ3J"
   },
   "outputs": [],
   "source": [
    "data_loc = 'https://github.com/dknife/ML/raw/main/data/'\n",
    "df = pd.read_csv(data_loc + 'nonlinear.csv')\n",
    "X       = df['x'].to_numpy()\n",
    "y_label = df['y'].to_numpy()"
   ]
  },
  {
   "cell_type": "code",
   "execution_count": 5,
   "metadata": {
    "colab": {
     "base_uri": "https://localhost:8080/"
    },
    "executionInfo": {
     "elapsed": 5336,
     "status": "ok",
     "timestamp": 1634090508069,
     "user": {
      "displayName": "오승원",
      "photoUrl": "https://lh3.googleusercontent.com/a/default-user=s64",
      "userId": "09559947531931876802"
     },
     "user_tz": -540
    },
    "id": "WWjRc-AtYX3k",
    "outputId": "48ee11e6-6cfe-48b8-90ea-99ecad955ffe"
   },
   "outputs": [
    {
     "data": {
      "text/plain": [
       "<keras.callbacks.History at 0x7fbedc18a208>"
      ]
     },
     "execution_count": 5,
     "metadata": {},
     "output_type": "execute_result"
    }
   ],
   "source": [
    "# 에폭epoch를 지정하는데, 하나의 데이터셋에 대해 몇 번 훈련을 반복할 것인지를 의미\n",
    "model.fit(X, y_label, epochs=100, verbose=0)"
   ]
  },
  {
   "cell_type": "code",
   "execution_count": 6,
   "metadata": {
    "colab": {
     "base_uri": "https://localhost:8080/",
     "height": 284
    },
    "executionInfo": {
     "elapsed": 928,
     "status": "ok",
     "timestamp": 1634090578474,
     "user": {
      "displayName": "오승원",
      "photoUrl": "https://lh3.googleusercontent.com/a/default-user=s64",
      "userId": "09559947531931876802"
     },
     "user_tz": -540
    },
    "id": "1_3J6HE1Ykhx",
    "outputId": "9417a3bb-ccb9-42e4-e35c-dbe633a33033"
   },
   "outputs": [
    {
     "data": {
      "text/plain": [
       "<matplotlib.collections.PathCollection at 0x7fbf37143cf8>"
      ]
     },
     "execution_count": 6,
     "metadata": {},
     "output_type": "execute_result"
    },
    {
     "data": {
      "image/png": "[encoded data removed]",
      "text/plain": [
       "<Figure size 432x288 with 1 Axes>"
      ]
     },
     "metadata": {
      "needs_background": "light"
     },
     "output_type": "display_data"
    }
   ],
   "source": [
    "domain = np.linspace(0, 1, 100).reshape(-1,1) # 입력은 2차원 벡터로 변형\n",
    "\n",
    "y_hat = model.predict(domain)\n",
    "plt.scatter(df['x'], df['y'])\n",
    "plt.scatter(domain, y_hat, color='r')"
   ]
  },
  {
   "cell_type": "code",
   "execution_count": null,
   "metadata": {
    "id": "yZnMUzX-Y2yK"
   },
   "outputs": [],
   "source": []
  }
 ],
 "metadata": {
  "colab": {
   "authorship_tag": "ABX9TyOHi7H8tBHpNRgMCTKmfdR1",
   "collapsed_sections": [],
   "name": "Week7.ipynb",
   "provenance": []
  },
  "kernelspec": {
   "display_name": "Python 3",
   "language": "python",
   "name": "python3"
  },
  "language_info": {
   "codemirror_mode": {
    "name": "ipython",
    "version": 3
   },
   "file_extension": ".py",
   "mimetype": "text/x-python",
   "name": "python",
   "nbconvert_exporter": "python",
   "pygments_lexer": "ipython3",
   "version": "3.6.9"
  }
 },
 "nbformat": 4,
 "nbformat_minor": 1
}
