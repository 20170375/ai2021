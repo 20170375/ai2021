{
 "cells": [
  {
   "cell_type": "markdown",
   "metadata": {
    "id": "tHXx2qWZIJxl"
   },
   "source": [
    "# 4-1 지도학습 및 비지도학습"
   ]
  },
  {
   "cell_type": "markdown",
   "metadata": {
    "id": "Wk7bqg2-IEXd"
   },
   "source": [
    "## 2. k-NN 알고리즘을 위한 데이터 준비하기"
   ]
  },
  {
   "cell_type": "code",
   "execution_count": 1,
   "metadata": {
    "colab": {
     "base_uri": "https://localhost:8080/",
     "height": 313
    },
    "executionInfo": {
     "elapsed": 966,
     "status": "ok",
     "timestamp": 1632559549710,
     "user": {
      "displayName": "오승원",
      "photoUrl": "https://lh3.googleusercontent.com/a/default-user=s64",
      "userId": "09559947531931876802"
     },
     "user_tz": -540
    },
    "id": "RzDRGO1yCsuL",
    "outputId": "a706cb15-a1e7-42c6-d654-ebe559d5ae97"
   },
   "outputs": [
    {
     "data": {
      "text/plain": [
       "<matplotlib.legend.Legend at 0x7fc66315b5c0>"
      ]
     },
     "execution_count": 1,
     "metadata": {},
     "output_type": "execute_result"
    },
    {
     "data": {
      "image/png": "[encoded data removed]",
      "text/plain": [
       "<Figure size 432x288 with 1 Axes>"
      ]
     },
     "metadata": {
      "needs_background": "light"
     },
     "output_type": "display_data"
    }
   ],
   "source": [
    "import matplotlib.pyplot as plt\n",
    "import numpy as np\n",
    "\n",
    "# 닥스훈트의 길이와 높이 데이터\n",
    "dach_length = [77, 78, 85, 83, 73, 77, 73, 80]\n",
    "dach_height = [25, 28, 29, 30, 21, 22, 17, 35]\n",
    "# 사모예드의 길이와 높이 데이터\n",
    "samo_length = [75, 77, 86, 86, 79, 83, 83, 88]\n",
    "samo_height = [56, 57, 50, 53, 60, 53, 49, 61]\n",
    "\n",
    "plt.scatter(dach_length, dach_height, c='red', label='Dachhund')\n",
    "plt.scatter(samo_length, samo_height, c='blue', label='Samoyed')\n",
    "\n",
    "newdata_length = [79] # 새로운 데이터이 길이\n",
    "newdata_heigth = [35] # 새로운 데이터의 높이\n",
    "\n",
    "# 새데이터의 표식은 오각형(pentagon)으로 설정하고, 레이블은 new Data로\n",
    "plt.scatter(newdata_length, newdata_heigth, s=100, marker='p', c='green', label='new Data')\n",
    "\n",
    "plt.xlabel('Length')\n",
    "plt.ylabel('Height')\n",
    "plt.title(\"Dog size\")\n",
    "plt.legend(loc='upper left')"
   ]
  },
  {
   "cell_type": "markdown",
   "metadata": {
    "id": "npOEOObrHy_y"
   },
   "source": [
    "## 3. k-NN 분류기를 실행하자"
   ]
  },
  {
   "cell_type": "code",
   "execution_count": 2,
   "metadata": {
    "colab": {
     "base_uri": "https://localhost:8080/"
    },
    "executionInfo": {
     "elapsed": 307,
     "status": "ok",
     "timestamp": 1632559276592,
     "user": {
      "displayName": "오승원",
      "photoUrl": "https://lh3.googleusercontent.com/a/default-user=s64",
      "userId": "09559947531931876802"
     },
     "user_tz": -540
    },
    "id": "L6d3T4rFGP6z",
    "outputId": "efadfab8-299e-4104-e040-1199ae482916"
   },
   "outputs": [
    {
     "name": "stdout",
     "output_type": "stream",
     "text": [
      "데이터 [[79, 35]] , 판정결과: Dachhund\n"
     ]
    }
   ],
   "source": [
    "import numpy as np\n",
    "from sklearn.neighbors import KNeighborsClassifier\n",
    "from sklearn import metrics\n",
    "\n",
    "# 닥스훈트의 길이와 높이 데이터\n",
    "dach_length = [77, 78, 85, 83, 73, 77, 73, 80]\n",
    "dach_height = [25, 28, 29, 30, 21, 22, 17, 35]\n",
    "# 사모예드의 길이와 높이 데이터\n",
    "samo_length = [75, 77, 86, 86, 79, 83, 83, 88]\n",
    "samo_height = [56, 57, 50, 53, 60, 53, 49, 61]\n",
    "\n",
    "d_data = np.column_stack((dach_length, dach_height))\n",
    "d_label = np.zeros(len(d_data)) # 닥스훈트는 0으로 레이블링\n",
    "s_data = np.column_stack((samo_length, samo_height))\n",
    "s_label = np.ones(len(s_data)) # 사모예드는 1으로 레이블링\n",
    "\n",
    "newdata = [[79, 35]]\n",
    "\n",
    "dogs = np.concatenate((d_data, s_data))\n",
    "labels = np.concatenate((d_label, s_label))\n",
    "\n",
    "dog_classes = {0: 'Dachhund', 1:'Samoyed'}\n",
    "\n",
    "k = 3 # k를 3으로 두고 KNN 분류기를 만들어 보자\n",
    "knn = KNeighborsClassifier(n_neighbors=k)\n",
    "knn.fit(dogs, labels)\n",
    "y_pred = knn.predict(newdata)\n",
    "print('데이터', newdata, ', 판정결과:', dog_classes[y_pred[0]])"
   ]
  },
  {
   "cell_type": "markdown",
   "metadata": {
    "id": "0cNXXHDIHt_Z"
   },
   "source": [
    "## 4. k-NN 활용 예제 - 붓꽃 데이터 준비하기"
   ]
  },
  {
   "cell_type": "code",
   "execution_count": 3,
   "metadata": {
    "colab": {
     "base_uri": "https://localhost:8080/"
    },
    "executionInfo": {
     "elapsed": 324,
     "status": "ok",
     "timestamp": 1632559599695,
     "user": {
      "displayName": "오승원",
      "photoUrl": "https://lh3.googleusercontent.com/a/default-user=s64",
      "userId": "09559947531931876802"
     },
     "user_tz": -540
    },
    "id": "P6Zitxm3Ga1r",
    "outputId": "1566152d-4eec-46fe-fe85-d96448147a00"
   },
   "outputs": [
    {
     "data": {
      "text/plain": [
       "array([[5.1, 3.5, 1.4, 0.2],\n",
       "       [4.9, 3. , 1.4, 0.2],\n",
       "       [4.7, 3.2, 1.3, 0.2],\n",
       "       [4.6, 3.1, 1.5, 0.2],\n",
       "       [5. , 3.6, 1.4, 0.2]])"
      ]
     },
     "execution_count": 3,
     "metadata": {},
     "output_type": "execute_result"
    }
   ],
   "source": [
    "from sklearn.datasets import load_iris\n",
    "\n",
    "iris = load_iris()\n",
    "iris.data[:5] # 최초 5개 데이터의 값을 출력\n",
    "\n",
    "# 각각의 속성은 '꽃받침 길이', '꽃받침 너비', '길이', '너비'를 cm 단위로 측정한 값"
   ]
  },
  {
   "cell_type": "markdown",
   "metadata": {
    "id": "Bwk6TaTUI7uJ"
   },
   "source": [
    "### 넘파이 다차원 배열인 iris.data를 조급 다루기 쉽게 판다스의 데이터프레임으로 만들어 보도록 하자"
   ]
  },
  {
   "cell_type": "code",
   "execution_count": 4,
   "metadata": {
    "colab": {
     "base_uri": "https://localhost:8080/",
     "height": 203
    },
    "executionInfo": {
     "elapsed": 290,
     "status": "ok",
     "timestamp": 1632559664186,
     "user": {
      "displayName": "오승원",
      "photoUrl": "https://lh3.googleusercontent.com/a/default-user=s64",
      "userId": "09559947531931876802"
     },
     "user_tz": -540
    },
    "id": "YKQK3tdQHsKH",
    "outputId": "11fad495-bf6d-42be-d69e-f676a24c6f17"
   },
   "outputs": [
    {
     "data": {
      "text/html": [
       "<div>\n",
       "<style scoped>\n",
       "    .dataframe tbody tr th:only-of-type {\n",
       "        vertical-align: middle;\n",
       "    }\n",
       "\n",
       "    .dataframe tbody tr th {\n",
       "        vertical-align: top;\n",
       "    }\n",
       "\n",
       "    .dataframe thead th {\n",
       "        text-align: right;\n",
       "    }\n",
       "</style>\n",
       "<table border=\"1\" class=\"dataframe\">\n",
       "  <thead>\n",
       "    <tr style=\"text-align: right;\">\n",
       "      <th></th>\n",
       "      <th>sepal length (cm)</th>\n",
       "      <th>sepal width (cm)</th>\n",
       "      <th>petal length (cm)</th>\n",
       "      <th>petal width (cm)</th>\n",
       "      <th>target</th>\n",
       "    </tr>\n",
       "  </thead>\n",
       "  <tbody>\n",
       "    <tr>\n",
       "      <th>0</th>\n",
       "      <td>5.1</td>\n",
       "      <td>3.5</td>\n",
       "      <td>1.4</td>\n",
       "      <td>0.2</td>\n",
       "      <td>0</td>\n",
       "    </tr>\n",
       "    <tr>\n",
       "      <th>1</th>\n",
       "      <td>4.9</td>\n",
       "      <td>3.0</td>\n",
       "      <td>1.4</td>\n",
       "      <td>0.2</td>\n",
       "      <td>0</td>\n",
       "    </tr>\n",
       "    <tr>\n",
       "      <th>2</th>\n",
       "      <td>4.7</td>\n",
       "      <td>3.2</td>\n",
       "      <td>1.3</td>\n",
       "      <td>0.2</td>\n",
       "      <td>0</td>\n",
       "    </tr>\n",
       "    <tr>\n",
       "      <th>3</th>\n",
       "      <td>4.6</td>\n",
       "      <td>3.1</td>\n",
       "      <td>1.5</td>\n",
       "      <td>0.2</td>\n",
       "      <td>0</td>\n",
       "    </tr>\n",
       "    <tr>\n",
       "      <th>4</th>\n",
       "      <td>5.0</td>\n",
       "      <td>3.6</td>\n",
       "      <td>1.4</td>\n",
       "      <td>0.2</td>\n",
       "      <td>0</td>\n",
       "    </tr>\n",
       "  </tbody>\n",
       "</table>\n",
       "</div>"
      ],
      "text/plain": [
       "   sepal length (cm)  sepal width (cm)  petal length (cm)  petal width (cm)  \\\n",
       "0                5.1               3.5                1.4               0.2   \n",
       "1                4.9               3.0                1.4               0.2   \n",
       "2                4.7               3.2                1.3               0.2   \n",
       "3                4.6               3.1                1.5               0.2   \n",
       "4                5.0               3.6                1.4               0.2   \n",
       "\n",
       "   target  \n",
       "0       0  \n",
       "1       0  \n",
       "2       0  \n",
       "3       0  \n",
       "4       0  "
      ]
     },
     "execution_count": 4,
     "metadata": {},
     "output_type": "execute_result"
    }
   ],
   "source": [
    "import pandas as pd\n",
    "\n",
    "iris_df = pd.DataFrame(iris.data, columns=iris.feature_names)\n",
    "iris_df['target'] = pd.Series(iris.target)\n",
    "iris_df.head()"
   ]
  },
  {
   "cell_type": "code",
   "execution_count": 5,
   "metadata": {
    "colab": {
     "base_uri": "https://localhost:8080/"
    },
    "executionInfo": {
     "elapsed": 303,
     "status": "ok",
     "timestamp": 1632559971186,
     "user": {
      "displayName": "오승원",
      "photoUrl": "https://lh3.googleusercontent.com/a/default-user=s64",
      "userId": "09559947531931876802"
     },
     "user_tz": -540
    },
    "id": "QDXcIePQI4lI",
    "outputId": "0b408b3c-4d8a-4399-f367-e29fb1a9d758"
   },
   "outputs": [
    {
     "name": "stdout",
     "output_type": "stream",
     "text": [
      "n_neighbors가 3일때 정확도: 0.978\n"
     ]
    }
   ],
   "source": [
    "from sklearn.model_selection import train_test_split\n",
    "from sklearn.neighbors import KNeighborsClassifier\n",
    "from sklearn import metrics\n",
    "\n",
    "def iris_knn(X, y, k):\n",
    "  X_train,X_test,y_train,y_test = train_test_split(X, y, test_size=0.3)\n",
    "  knn = KNeighborsClassifier(n_neighbors=k)\n",
    "  knn.fit(X_train, y_train)\n",
    "  y_pred = knn.predict(X_test)\n",
    "  return metrics.accuracy_score(y_test, y_pred)\n",
    "\n",
    "k = 3\n",
    "X = iris_df.iloc[:, :4]\n",
    "y = iris_df.iloc[:, -1]\n",
    "scores = iris_knn(X, y, k)\n",
    "print('n_neighbors가 {0:d}일때 정확도: {1:.3f}'.format(k, scores))"
   ]
  },
  {
   "cell_type": "markdown",
   "metadata": {
    "id": "RnzKd8IdKdVp"
   },
   "source": [
    "## 5. 새로운 꽃에 대해서 모델을 적용하고 분류"
   ]
  },
  {
   "cell_type": "code",
   "execution_count": 6,
   "metadata": {
    "colab": {
     "base_uri": "https://localhost:8080/"
    },
    "executionInfo": {
     "elapsed": 298,
     "status": "ok",
     "timestamp": 1632561098938,
     "user": {
      "displayName": "오승원",
      "photoUrl": "https://lh3.googleusercontent.com/a/default-user=s64",
      "userId": "09559947531931876802"
     },
     "user_tz": -540
    },
    "id": "sK2p4pgrJ_RJ",
    "outputId": "f8e83527-386d-4825-9e07-baedabbee672"
   },
   "outputs": [
    {
     "name": "stdout",
     "output_type": "stream",
     "text": [
      "[4, 2, 1.3, 0.4] 특성을 가지는 품종: setosa\n",
      "[4, 2, 1.3, 0.4] 특성을 가지는 품종: versicolor\n"
     ]
    }
   ],
   "source": [
    "from sklearn.datasets import load_iris\n",
    "from sklearn.neighbors import KNeighborsClassifier\n",
    "\n",
    "iris = load_iris()\n",
    "k = 3\n",
    "knn = KNeighborsClassifier(n_neighbors=k)\n",
    "knn.fit(iris.data, iris.target)\n",
    "\n",
    "classes = {0:'setosa', 1:'versicolor', 2:'virginica'}\n",
    "\n",
    "# 새로운 데이터를 제시해 보자\n",
    "X = [[4, 2, 1.3, 0.4],\n",
    "     [4, 3, 3.2 ,2.2]]\n",
    "y = knn.predict(X)\n",
    "\n",
    "print('{} 특성을 가지는 품종: {}'.format(X[0], classes[y[0]]))\n",
    "print('{} 특성을 가지는 품종: {}'.format(X[0], classes[y[1]]))"
   ]
  },
  {
   "cell_type": "markdown",
   "metadata": {
    "id": "metYMCzvOJ4X"
   },
   "source": [
    "### 분류기의 정확도 측정 (iris.target과 비교)"
   ]
  },
  {
   "cell_type": "code",
   "execution_count": 7,
   "metadata": {
    "colab": {
     "base_uri": "https://localhost:8080/"
    },
    "executionInfo": {
     "elapsed": 289,
     "status": "ok",
     "timestamp": 1632560865890,
     "user": {
      "displayName": "오승원",
      "photoUrl": "https://lh3.googleusercontent.com/a/default-user=s64",
      "userId": "09559947531931876802"
     },
     "user_tz": -540
    },
    "id": "M8o3IZS2NA7g",
    "outputId": "d5044e8a-2adc-4c46-d580-d53450e11c94"
   },
   "outputs": [
    {
     "name": "stdout",
     "output_type": "stream",
     "text": [
      "n_neighbors가 3일때 정확도: 0.960\n"
     ]
    }
   ],
   "source": [
    "y_pred_all = knn.predict(iris.data)\n",
    "scores = metrics.accuracy_score(iris.target, y_pred_all)\n",
    "print('n_neighbors가 {0:d}일때 정확도: {1:.3f}'.format(k, scores))"
   ]
  },
  {
   "cell_type": "markdown",
   "metadata": {
    "id": "OWUqBeNFNwya"
   },
   "source": [
    "### 결과에 대해 (정답, 예측)의 쌍으로 데이터를 만들어 2차원 히스토그램"
   ]
  },
  {
   "cell_type": "code",
   "execution_count": 8,
   "metadata": {
    "colab": {
     "base_uri": "https://localhost:8080/",
     "height": 374
    },
    "executionInfo": {
     "elapsed": 327,
     "status": "ok",
     "timestamp": 1632560908101,
     "user": {
      "displayName": "오승원",
      "photoUrl": "https://lh3.googleusercontent.com/a/default-user=s64",
      "userId": "09559947531931876802"
     },
     "user_tz": -540
    },
    "id": "wjdGKj3INd9t",
    "outputId": "a2040f5d-153b-4f01-a370-7d7650dca761"
   },
   "outputs": [
    {
     "data": {
      "text/plain": [
       "(array([[50.,  0.,  0.],\n",
       "        [ 0., 47.,  3.],\n",
       "        [ 0.,  3., 47.]]),\n",
       " array([0.        , 0.66666667, 1.33333333, 2.        ]),\n",
       " array([0.        , 0.66666667, 1.33333333, 2.        ]),\n",
       " <matplotlib.collections.QuadMesh at 0x7fc632146828>)"
      ]
     },
     "execution_count": 8,
     "metadata": {},
     "output_type": "execute_result"
    },
    {
     "data": {
      "image/png": "[encoded data removed]",
      "text/plain": [
       "<Figure size 432x288 with 1 Axes>"
      ]
     },
     "metadata": {
      "needs_background": "light"
     },
     "output_type": "display_data"
    }
   ],
   "source": [
    "import matplotlib.pyplot as plt\n",
    "plt.hist2d(iris.target, y_pred_all, bins=(3,3), cmap=plt.cm.jet)"
   ]
  },
  {
   "cell_type": "markdown",
   "metadata": {
    "id": "cyB00zDLOcwM"
   },
   "source": [
    "## 6. 표집 편향과 성능 측정을 위한 평가지표"
   ]
  },
  {
   "cell_type": "markdown",
   "metadata": {
    "id": "63hXPJ1AOv2E"
   },
   "source": [
    "실제 데이터를 다룰 경우 99%의 정확도를 가지는 분류기는 매우 구현하기 어려우며, 더구나 단 두 줄 만으로 만든 아래의 분류기는 매우 신뢰하기 힘듬\n",
    "\n",
    "```\n",
    "def classifier_A(length, height): # 입력값에 관계없이 'Samoyed'를 반환\n",
    "  return 'Samoyed'\n",
    "```\n",
    "\n",
    "분류기 A가 입력으로 9,900 마리의 사모예드와 100 마리의 닥스훈트 종의 길이와 높이를 받는다고 가정하면.\n",
    "분류기 A의 정확도는 다음과 같다.\n",
    "\n",
    "```\n",
    "분류기 A의 정확도 = 제대로 분류한 데이터 / 전체 데이터\n",
    "            = 9900 / 10000\n",
    "            = 0.99 (= 99%)\n",
    "```\n",
    "\n",
    "표본 데이터가 편향된 경우 우수한 머신 러닝 알고리즘을 사용한다고 할지라도 학습 성능의 개선을 기대하기는 힘듬 => 표집편향이라고 함\n"
   ]
  },
  {
   "cell_type": "markdown",
   "metadata": {
    "id": "vZxhmmSdQPFD"
   },
   "source": [
    "## 8. 사이킷 런의 성능지표 함수들\n",
    "\n",
    "|||음성(N) 예측|||양성(P) 예측||\n",
    "|:--:|--:|:--:|:--|--:|:--:|:--|\n",
    "|환자의 실제 상태값||N|||P||\n",
    "|실제 음성(N)|TN|T|N|FP|F|P|\n",
    "|실제 양성(P)|FN|F|F|N|TP|T|P|\n",
    "\n",
    "<br>\n",
    "\n",
    "정확도: 전체 데이터 중에서 제대로 판정한 데이터의 비율\n",
    "\n",
    "$ Acc = {TP + TN \\over FP + FN + TP + TN} $\n",
    "\n",
    "재현율: 실제 양성을 양성으로 분류할 확률\n",
    "\n",
    "$ Rec = {TP \\over FN + TP} $\n",
    "\n",
    "정밀도: 양성으로 분류한 사람들 중 실제 양성일 확률\n",
    "\n",
    "$ Pre = {TP \\over TP + FP} $\n",
    "\n",
    "F1점수: 정밀도와 재현율의 조화평균\n",
    "\n",
    "$ F_1 = {2 \\over {1 \\over Pre} + {1 \\over Rec}} = 2{{Pre \\times Rec} \\over {Pre + Rec}} $\n"
   ]
  },
  {
   "cell_type": "code",
   "execution_count": 9,
   "metadata": {
    "colab": {
     "base_uri": "https://localhost:8080/"
    },
    "executionInfo": {
     "elapsed": 367,
     "status": "ok",
     "timestamp": 1632561875805,
     "user": {
      "displayName": "오승원",
      "photoUrl": "https://lh3.googleusercontent.com/a/default-user=s64",
      "userId": "09559947531931876802"
     },
     "user_tz": -540
    },
    "id": "1Jj8n_UgO9dN",
    "outputId": "e419e409-82cc-43af-b837-39a0d1722507"
   },
   "outputs": [
    {
     "name": "stdout",
     "output_type": "stream",
     "text": [
      "target\t [0 0 0 0 0 0 0 0 0 0 1 1 1 1 1 1 1 1 1 1]\n",
      "pred\t [0 0 0 0 0 1 1 1 0 0 1 1 1 1 1 1 0 0 1 1]\n",
      "\n",
      "목표값과 예측값을 혼동행렬로 표시\n"
     ]
    },
    {
     "data": {
      "text/plain": [
       "array([[7, 3],\n",
       "       [2, 8]])"
      ]
     },
     "execution_count": 9,
     "metadata": {},
     "output_type": "execute_result"
    }
   ],
   "source": [
    "target = np.array([0] * 10 + [1] * 10)\n",
    "print(\"target\\t\", target) # 10개의 0 (Negative), 10개의 1(Positive)를 가짐\n",
    "\n",
    "pred = np.array([0,0,0,0,0,1,1,1,0,0,1,1,1,1,1,1,0,0,1,1])\n",
    "print(\"pred\\t\", pred)\n",
    "\n",
    "print(\"\\n목표값과 예측값을 혼동행렬로 표시\")\n",
    "from sklearn.metrics import confusion_matrix\n",
    "confusion_matrix(target, pred) # 혼동행렬 만들기"
   ]
  },
  {
   "cell_type": "code",
   "execution_count": 10,
   "metadata": {
    "colab": {
     "base_uri": "https://localhost:8080/"
    },
    "executionInfo": {
     "elapsed": 471,
     "status": "ok",
     "timestamp": 1632561959842,
     "user": {
      "displayName": "오승원",
      "photoUrl": "https://lh3.googleusercontent.com/a/default-user=s64",
      "userId": "09559947531931876802"
     },
     "user_tz": -540
    },
    "id": "arcIr5ZxQp5u",
    "outputId": "702f5bf0-d850-4e1a-9df0-5cfdf5e0a706"
   },
   "outputs": [
    {
     "name": "stdout",
     "output_type": "stream",
     "text": [
      "정밀도 : 0.7272727272727273\n",
      "재현율 : 0.8\n",
      "정확도 : 0.75\n",
      "F1 점수 : 0.761904761904762\n"
     ]
    }
   ],
   "source": [
    "from sklearn.metrics import precision_score, recall_score\n",
    "print('정밀도 :', precision_score(target, pred))\n",
    "print('재현율 :', recall_score(target, pred))\n",
    "\n",
    "from sklearn.metrics import accuracy_score, f1_score\n",
    "print('정확도 :', accuracy_score(target, pred))\n",
    "print('F1 점수 :', f1_score(target, pred))"
   ]
  },
  {
   "cell_type": "markdown",
   "metadata": {
    "id": "A6lNZqi4XeIc"
   },
   "source": [
    "## 9. 앙상블 - 머신러닝의 민주주의\n",
    "\n",
    "앙상블은 머신러닝 분야의 집단 지성.\n",
    "\n",
    "분류기의 다양성을 확보하는 방법\n",
    "+ 서로 다른 모델로 각각의 분류기를 만들기\n",
    "+ 각각의 분류기에 대해 서로 다른 학습 데이터를 제공해 훈련\n",
    "\n",
    "분류기에 선택된 데이터가 다른 분류기의 학습에도 \n",
    "+ 사용될 수 있으면 **배깅**<sup>bagging</sup> 기법\n",
    "+ 불가능하면 **페이스팅**<sup>pasting</sup>이라고 부름\n",
    "\n",
    "확률 통계 분야에서 이러한 추출을 각각 **복원 추출**, **비복원 추출**\n",
    "\n",
    "배깅 기법을 개선한 방법이 **부스팅**<sup>boosting</sup>기법 <small>(AdaBoost 알고리즘)</small>"
   ]
  },
  {
   "cell_type": "markdown",
   "metadata": {
    "id": "rSRilTEXXrs9"
   },
   "source": [
    "## 10. 군집화의 개념과 비지도 학습\n",
    "\n",
    "**군집화**<sup>clustering</sup>란 소속집단의 정보가 없고 모르는 상태에서 비슷한 집단으로 묶는 비지도 학습\n",
    "\n",
    "입력 데이터를 바탕으로 출력값을 예측하는 목적으로 사용되기 보다는, 데이터에서 의미를 파악하고 기준을 만드는 목적으로 사용\n",
    "\n",
    "||분류|군집화|\n",
    "|:--:|:--:|:--:|\n",
    "|소속집단에 대한 정보|있다|없다|\n",
    "|레이블 유무|있다|없다|\n",
    "|종류|지도 학습|비지도 학습|\n",
    "|공통점|데이터를 비슷한 집단으로 묶는 방법||"
   ]
  },
  {
   "cell_type": "code",
   "execution_count": 11,
   "metadata": {
    "colab": {
     "base_uri": "https://localhost:8080/",
     "height": 281
    },
    "executionInfo": {
     "elapsed": 324,
     "status": "ok",
     "timestamp": 1632564298035,
     "user": {
      "displayName": "오승원",
      "photoUrl": "https://lh3.googleusercontent.com/a/default-user=s64",
      "userId": "09559947531931876802"
     },
     "user_tz": -540
    },
    "id": "zR6KOipYXkOD",
    "outputId": "1bc60b51-d634-4981-c162-847b2f07f867"
   },
   "outputs": [
    {
     "data": {
      "image/png": "[encoded data removed]",
      "text/plain": [
       "<Figure size 432x288 with 1 Axes>"
      ]
     },
     "metadata": {
      "needs_background": "light"
     },
     "output_type": "display_data"
    }
   ],
   "source": [
    "import numpy as np\n",
    "import matplotlib.pyplot as plt\n",
    "\n",
    "# 개의 길이와 높이를 각각 ndarray 형태로 만든다\n",
    "dog_length = np.array(dach_length + samo_length) # 리스트를 이어 nparray로\n",
    "dog_height = np.array(dach_height + samo_height) # 리스트를 이어 nparray로\n",
    "\n",
    "dog_data = np.column_stack((dog_length, dog_height))\n",
    "\n",
    "plt.title(\"Dog data without label\")\n",
    "plt.scatter(dog_length, dog_height)\n",
    "plt.show()"
   ]
  },
  {
   "cell_type": "code",
   "execution_count": 12,
   "metadata": {
    "colab": {
     "base_uri": "https://localhost:8080/",
     "height": 294
    },
    "executionInfo": {
     "elapsed": 616,
     "status": "ok",
     "timestamp": 1632564485076,
     "user": {
      "displayName": "오승원",
      "photoUrl": "https://lh3.googleusercontent.com/a/default-user=s64",
      "userId": "09559947531931876802"
     },
     "user_tz": -540
    },
    "id": "2-OzgmGdaj4a",
    "outputId": "e85a1793-6c47-48aa-81c0-fa07fb5c5a9d"
   },
   "outputs": [
    {
     "data": {
      "image/png": "[encoded data removed]",
      "text/plain": [
       "<Figure size 432x288 with 1 Axes>"
      ]
     },
     "metadata": {
      "needs_background": "light"
     },
     "output_type": "display_data"
    }
   ],
   "source": [
    "from sklearn import cluster\n",
    "\n",
    "def kmeans_predict_plot(X, k):\n",
    "  model = cluster.KMeans(n_clusters=k)\n",
    "  model.fit(X)\n",
    "  labels = model.predict(X)\n",
    "  colors = np.array(['red', 'green', 'blue', 'magenta'])\n",
    "  plt.suptitle('k-Means clustering, k={}'.format(k))\n",
    "  plt.scatter(X[:,0], X[:, 1], color=colors[labels])\n",
    "\n",
    "kmeans_predict_plot(dog_data, k=2)"
   ]
  },
  {
   "cell_type": "markdown",
   "metadata": {
    "id": "JAQO0mZzcOn5"
   },
   "source": [
    "k-평균 군집 알고리즘은 원리가 단순하고 직관적이며 성능이 좋은 군집화 알고리즘이다.\n",
    "\n",
    "사전에 군집의 개수 k값을 지정해야 하는 단점이 있다."
   ]
  },
  {
   "cell_type": "code",
   "execution_count": 13,
   "metadata": {
    "colab": {
     "base_uri": "https://localhost:8080/",
     "height": 294
    },
    "executionInfo": {
     "elapsed": 789,
     "status": "ok",
     "timestamp": 1632564708355,
     "user": {
      "displayName": "오승원",
      "photoUrl": "https://lh3.googleusercontent.com/a/default-user=s64",
      "userId": "09559947531931876802"
     },
     "user_tz": -540
    },
    "id": "b4XmjFB7aueC",
    "outputId": "6d059599-21f6-4dd7-889d-9b3049e815d2"
   },
   "outputs": [
    {
     "data": {
      "image/png": "[encoded data removed]",
      "text/plain": [
       "<Figure size 432x288 with 1 Axes>"
      ]
     },
     "metadata": {
      "needs_background": "light"
     },
     "output_type": "display_data"
    }
   ],
   "source": [
    "kmeans_predict_plot(dog_data, k=3) # 3개의 군집 생성\n",
    "kmeans_predict_plot(dog_data, k=4) # 4개의 군집 생성"
   ]
  }
 ],
 "metadata": {
  "colab": {
   "authorship_tag": "ABX9TyO8ICB9agtLFblapRKxLzLW",
   "collapsed_sections": [
    "Wk7bqg2-IEXd",
    "npOEOObrHy_y",
    "0cNXXHDIHt_Z",
    "RnzKd8IdKdVp",
    "cyB00zDLOcwM",
    "vZxhmmSdQPFD",
    "rSRilTEXXrs9"
   ],
   "name": "Week4-1.ipynb",
   "provenance": []
  },
  "kernelspec": {
   "display_name": "Python 3",
   "language": "python",
   "name": "python3"
  },
  "language_info": {
   "codemirror_mode": {
    "name": "ipython",
    "version": 3
   },
   "file_extension": ".py",
   "mimetype": "text/x-python",
   "name": "python",
   "nbconvert_exporter": "python",
   "pygments_lexer": "ipython3",
   "version": "3.6.9"
  }
 },
 "nbformat": 4,
 "nbformat_minor": 1
}
