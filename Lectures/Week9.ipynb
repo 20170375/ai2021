{
 "cells": [
  {
   "cell_type": "markdown",
   "metadata": {
    "id": "BvjVLFJ-BRxr"
   },
   "source": [
    "### 9주차 인공신경망의 최적화"
   ]
  },
  {
   "cell_type": "markdown",
   "metadata": {
    "id": "rfOreCGoMIEa"
   },
   "source": [
    "#### 3.3 활성함수 - 소프트맥스 함수\n",
    "\n",
    "i = 1, ... , K일 때  $ \\sigma (z_i) = {e^{z_i} \\over \\sum^K_{j=1} e^{z_i}} $"
   ]
  },
  {
   "cell_type": "code",
   "execution_count": 1,
   "metadata": {
    "colab": {
     "base_uri": "https://localhost:8080/"
    },
    "executionInfo": {
     "elapsed": 298,
     "status": "ok",
     "timestamp": 1635316212220,
     "user": {
      "displayName": "오승원",
      "photoUrl": "https://lh3.googleusercontent.com/a/default-user=s64",
      "userId": "09559947531931876802"
     },
     "user_tz": -540
    },
    "id": "SqgasjFjAfZT",
    "outputId": "ecbd230e-4e57-49e8-87e7-bc7e05cac003"
   },
   "outputs": [
    {
     "name": "stdout",
     "output_type": "stream",
     "text": [
      "신경망의 예측값 : [0.5 4.1 2.5 5.6 1.2]\n",
      "소프트맥스 함수의 출력 : [0.00473882 0.17343248 0.03501541 0.77727047 0.00954281]\n"
     ]
    }
   ],
   "source": [
    "import numpy as np\n",
    "\n",
    "def softmax(a):\n",
    "  exp_of_a = np.exp(a)        # 각각의 지수 함수\n",
    "  sum_exp = np.sum(exp_of_a)  # 지수 함수값의 합\n",
    "  y = exp_of_a / sum_exp      # 각각의 확률값을 구함\n",
    "  return y\n",
    "\n",
    "a = np.array([0.5, 4.1, 2.5, 5.6, 1.2])\n",
    "print('신경망의 예측값 :', a)\n",
    "print('소프트맥스 함수의 출력 :', softmax(a))"
   ]
  },
  {
   "cell_type": "markdown",
   "metadata": {
    "id": "VFVfDXHDZmuq"
   },
   "source": [
    "소프트맥스 함수는 지수함수이므로 입력값 a가 다음과 같이 두 배로 커질 경우 최대값의 확률값이 크게 증가함"
   ]
  },
  {
   "cell_type": "code",
   "execution_count": 2,
   "metadata": {
    "colab": {
     "base_uri": "https://localhost:8080/"
    },
    "executionInfo": {
     "elapsed": 6,
     "status": "ok",
     "timestamp": 1635316213177,
     "user": {
      "displayName": "오승원",
      "photoUrl": "https://lh3.googleusercontent.com/a/default-user=s64",
      "userId": "09559947531931876802"
     },
     "user_tz": -540
    },
    "id": "YZ2L1867Hycy",
    "outputId": "8e8c834e-9d19-4faa-d6e6-91107789b15e"
   },
   "outputs": [
    {
     "name": "stdout",
     "output_type": "stream",
     "text": [
      "신경망의 예측값 : [ 1.   8.2  5.  11.2  2.4]\n",
      "소프트맥스 함수의 출력 : [3.53328547e-05 4.73259126e-02 1.92910850e-03 9.50566364e-01\n",
      " 1.43281791e-04]\n",
      "소프트맥스 함수의 최대값 : 0.9505663642857384\n",
      "소프트맥스 함수의 최대값 idx : 3\n"
     ]
    }
   ],
   "source": [
    "# 소프트맥스 함수의 입력값을 두 배로 증가시켜보자\n",
    "a = np.array([0.5, 4.1, 2.5, 5.6, 1.2]) * 2\n",
    "print('신경망의 예측값 :', a)\n",
    "print('소프트맥스 함수의 출력 :', softmax(a))\n",
    "print('소프트맥스 함수의 최대값 :', np.max(softmax(a)))\n",
    "print('소프트맥스 함수의 최대값 idx :', np.argmax(softmax(a)))"
   ]
  },
  {
   "cell_type": "code",
   "execution_count": 3,
   "metadata": {
    "colab": {
     "base_uri": "https://localhost:8080/"
    },
    "executionInfo": {
     "elapsed": 2028,
     "status": "ok",
     "timestamp": 1635316215202,
     "user": {
      "displayName": "오승원",
      "photoUrl": "https://lh3.googleusercontent.com/a/default-user=s64",
      "userId": "09559947531931876802"
     },
     "user_tz": -540
    },
    "id": "4b7gtY72IQ98",
    "outputId": "130933d6-81f4-4e96-d6d4-cdec081999a1"
   },
   "outputs": [
    {
     "name": "stdout",
     "output_type": "stream",
     "text": [
      "인코딩할 원본 데이터 [0 1 2 3 4]\n",
      "원-핫 인코딩된 데이터 :\n",
      "[[1. 0. 0. 0. 0.]\n",
      " [0. 1. 0. 0. 0.]\n",
      " [0. 0. 1. 0. 0.]\n",
      " [0. 0. 0. 1. 0.]\n",
      " [0. 0. 0. 0. 1.]]\n"
     ]
    }
   ],
   "source": [
    "from tensorflow.keras.utils import to_categorical\n",
    "\n",
    "data = np.array([0, 1, 2, 3, 4])  # 수치 데이터 0에서 4까지의 값\n",
    "print(\"인코딩할 원본 데이터\", data)\n",
    "encoded = to_categorical(data)    # 원-핫 인코딩된 범주형 데이터 생성\n",
    "print(\"원-핫 인코딩된 데이터 :\")\n",
    "print(encoded)"
   ]
  },
  {
   "cell_type": "code",
   "execution_count": 4,
   "metadata": {
    "colab": {
     "base_uri": "https://localhost:8080/"
    },
    "executionInfo": {
     "elapsed": 9,
     "status": "ok",
     "timestamp": 1635316215203,
     "user": {
      "displayName": "오승원",
      "photoUrl": "https://lh3.googleusercontent.com/a/default-user=s64",
      "userId": "09559947531931876802"
     },
     "user_tz": -540
    },
    "id": "aLMk5Vg4UpiT",
    "outputId": "d21a15fa-b75d-4f5f-a9e2-7b1a6bcb3235"
   },
   "outputs": [
    {
     "name": "stdout",
     "output_type": "stream",
     "text": [
      "y_hat과 target과의 오차 : 0.016201599999999997\n"
     ]
    }
   ],
   "source": [
    "import numpy as np\n",
    "\n",
    "# 정답 3이 인코딩된 target과 신경망의 예측값 y_hat이 있다고 가정하자\n",
    "target = np.array([0, 0, 0, 1, 0])\n",
    "y_hat = np.array([0.005, 0.173, 0.035, 0.777, 0.01])\n",
    "\n",
    "def mse(y, t):    # 평균제곱오차\n",
    "  return ((y-t)**2).mean()\n",
    "\n",
    "print('y_hat과 target과의 오차 :', mse(y_hat, target))"
   ]
  },
  {
   "cell_type": "markdown",
   "metadata": {
    "id": "8-oTszBWWc3R"
   },
   "source": [
    "평균 제곱 오차 함수는 범주형 데이터에 대하여, 다음과 같이 정답 레이블과 예측값의 차이의 제곱의 합을 구한 다음 전체 샘플의 개수로 나누어 계산\n",
    "\n",
    "$ E_{mse} = {1 \\over m} {\\sum}^m_{i=1} (\\hat y_i - y_i)^2 $"
   ]
  },
  {
   "cell_type": "code",
   "execution_count": 5,
   "metadata": {
    "colab": {
     "base_uri": "https://localhost:8080/"
    },
    "executionInfo": {
     "elapsed": 7,
     "status": "ok",
     "timestamp": 1635316215204,
     "user": {
      "displayName": "오승원",
      "photoUrl": "https://lh3.googleusercontent.com/a/default-user=s64",
      "userId": "09559947531931876802"
     },
     "user_tz": -540
    },
    "id": "FK09BxLNVy5W",
    "outputId": "a6b9a7a1-b5d0-42c7-c67f-7b2a5bc49ef2"
   },
   "outputs": [
    {
     "name": "stdout",
     "output_type": "stream",
     "text": [
      "other_y_hat과 target과의 오차 : 0.25564\n"
     ]
    }
   ],
   "source": [
    "# 정답에서 많이 벗어난 other_y_hat 추정치\n",
    "other_y_hat = np.array([0.2, 0.3, 0.4, 0.01, 0.09])\n",
    "# other_y_hat 추정치와 정답과의 오차를 알아보자\n",
    "print('other_y_hat과 target과의 오차 :', mse(other_y_hat, target))"
   ]
  },
  {
   "cell_type": "markdown",
   "metadata": {
    "id": "z0qrwQVBXzkS"
   },
   "source": [
    "교차 엔트로피 오차를 구하기 위해서는 다음과 같이 로그의 밑이 e인 자연로그를 예측값 y<sub>k</sub>에 씌워서 목표값 t<sub>k</sub>과 곱한 후 전체 값을 합한 후 음수로 변환\n",
    "\n",
    "$ E_{cee} = -{\\sum}_k {t_k} \\log {y_k} $"
   ]
  },
  {
   "cell_type": "code",
   "execution_count": 5,
   "metadata": {
    "executionInfo": {
     "elapsed": 6,
     "status": "ok",
     "timestamp": 1635316215204,
     "user": {
      "displayName": "오승원",
      "photoUrl": "https://lh3.googleusercontent.com/a/default-user=s64",
      "userId": "09559947531931876802"
     },
     "user_tz": -540
    },
    "id": "_IM7s2iyWMyl"
   },
   "outputs": [],
   "source": []
  }
 ],
 "metadata": {
  "colab": {
   "authorship_tag": "ABX9TyMeQKuHuBZheSXwK/9yxXt6",
   "collapsed_sections": [],
   "name": "Week9.ipynb",
   "provenance": []
  },
  "kernelspec": {
   "display_name": "Python 3",
   "language": "python",
   "name": "python3"
  },
  "language_info": {
   "codemirror_mode": {
    "name": "ipython",
    "version": 3
   },
   "file_extension": ".py",
   "mimetype": "text/x-python",
   "name": "python",
   "nbconvert_exporter": "python",
   "pygments_lexer": "ipython3",
   "version": "3.6.9"
  }
 },
 "nbformat": 4,
 "nbformat_minor": 1
}
