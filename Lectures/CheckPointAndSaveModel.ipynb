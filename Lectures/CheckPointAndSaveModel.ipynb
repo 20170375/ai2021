{
 "cells": [
  {
   "cell_type": "markdown",
   "id": "54f0def5",
   "metadata": {},
   "source": [
    "# 모델저장 및 복원 방법"
   ]
  },
  {
   "cell_type": "markdown",
   "id": "6c0d5388",
   "metadata": {},
   "source": [
    "## 1. Callback 기능을 이용한 Check Point 모델저장 및 복원"
   ]
  },
  {
   "cell_type": "code",
   "execution_count": 1,
   "id": "0e81a80b",
   "metadata": {},
   "outputs": [
    {
     "name": "stdout",
     "output_type": "stream",
     "text": [
      "2.6.0\n"
     ]
    }
   ],
   "source": [
    "### 학습 조기 종료 Early Stopping\n",
    "import os\n",
    "\n",
    "import tensorflow as tf\n",
    "from tensorflow import keras\n",
    "import numpy as np\n",
    "import matplotlib.pyplot as plt\n",
    "\n",
    "from tensorflow.keras.callbacks import ModelCheckpoint,EarlyStopping\n",
    "\n",
    "print(tf.version.VERSION)"
   ]
  },
  {
   "cell_type": "code",
   "execution_count": 2,
   "id": "d5b62ddf",
   "metadata": {},
   "outputs": [],
   "source": [
    "fashion_mnist = keras.datasets.fashion_mnist\n",
    "(train_images, train_labels), (test_images, test_labels) = fashion_mnist.load_data()\n",
    "\n",
    "train_labels = train_labels[:1000]\n",
    "test_labels = test_labels[:1000]\n",
    "\n",
    "train_images = train_images[:1000]/255.0\n",
    "test_images = test_images[:1000]/255.0\n",
    "\n",
    "train_images = train_images[:, :, :, np.newaxis]\n",
    "test_images = test_images[:, :, :, np.newaxis]"
   ]
  },
  {
   "cell_type": "code",
   "execution_count": 3,
   "id": "f7b19d60",
   "metadata": {},
   "outputs": [],
   "source": [
    "# CNN 인공신경망의 정의\n",
    "\n",
    "def create_model():\n",
    "    model = keras.models.Sequential( [\n",
    "        keras.layers.Conv2D(input_shape = (28, 28, 1),\n",
    "                        kernel_size = (3,3), padding = 'same', \n",
    "                        filters = 32),\n",
    "        keras.layers.MaxPooling2D((2, 2), strides=2),\n",
    "        keras.layers.Conv2D(kernel_size = (3,3), padding ='same', \n",
    "                        filters = 64),\n",
    "        keras.layers.MaxPooling2D((2, 2), strides=2),\n",
    "        keras.layers.Conv2D(kernel_size = (3,3), padding = 'same', \n",
    "                        filters = 32),\n",
    "        keras.layers.Flatten(),\n",
    "        keras.layers.Dense(128, activation = 'relu'),\n",
    "        keras.layers.Dense(32, activation = 'relu'),\n",
    "        keras.layers.Dense(10, activation = 'softmax'),\n",
    "    ])\n",
    "    model.compile(optimizer='adam',\n",
    "                 loss='sparse_categorical_crossentropy',\n",
    "                 metrics=['accuracy'])\n",
    "    return model"
   ]
  },
  {
   "cell_type": "code",
   "execution_count": 4,
   "id": "545c9a41",
   "metadata": {},
   "outputs": [
    {
     "name": "stdout",
     "output_type": "stream",
     "text": [
      "Model: \"sequential\"\n",
      "_________________________________________________________________\n",
      "Layer (type)                 Output Shape              Param #   \n",
      "=================================================================\n",
      "conv2d (Conv2D)              (None, 28, 28, 32)        320       \n",
      "_________________________________________________________________\n",
      "max_pooling2d (MaxPooling2D) (None, 14, 14, 32)        0         \n",
      "_________________________________________________________________\n",
      "conv2d_1 (Conv2D)            (None, 14, 14, 64)        18496     \n",
      "_________________________________________________________________\n",
      "max_pooling2d_1 (MaxPooling2 (None, 7, 7, 64)          0         \n",
      "_________________________________________________________________\n",
      "conv2d_2 (Conv2D)            (None, 7, 7, 32)          18464     \n",
      "_________________________________________________________________\n",
      "flatten (Flatten)            (None, 1568)              0         \n",
      "_________________________________________________________________\n",
      "dense (Dense)                (None, 128)               200832    \n",
      "_________________________________________________________________\n",
      "dense_1 (Dense)              (None, 32)                4128      \n",
      "_________________________________________________________________\n",
      "dense_2 (Dense)              (None, 10)                330       \n",
      "=================================================================\n",
      "Total params: 242,570\n",
      "Trainable params: 242,570\n",
      "Non-trainable params: 0\n",
      "_________________________________________________________________\n"
     ]
    }
   ],
   "source": [
    "# 모델 객체를 만듭니다\n",
    "model = create_model()\n",
    "\n",
    "# 모델 구조를 출력합니다\n",
    "model.summary()"
   ]
  },
  {
   "cell_type": "markdown",
   "id": "be38e38a",
   "metadata": {},
   "source": [
    "### 모델의 가중치를 저장하는 callback 만들기"
   ]
  },
  {
   "cell_type": "code",
   "execution_count": 5,
   "id": "aa275248",
   "metadata": {},
   "outputs": [
    {
     "name": "stdout",
     "output_type": "stream",
     "text": [
      "Epoch 1/10\n",
      "32/32 [==============================] - 2s 32ms/step - loss: 1.5484 - accuracy: 0.4250 - val_loss: 0.9772 - val_accuracy: 0.6500\n",
      "\n",
      "Epoch 00001: saving model to training_1/cp.ckpt\n",
      "Epoch 2/10\n",
      "32/32 [==============================] - 1s 27ms/step - loss: 0.8339 - accuracy: 0.7020 - val_loss: 0.7824 - val_accuracy: 0.7130\n",
      "\n",
      "Epoch 00002: saving model to training_1/cp.ckpt\n",
      "Epoch 3/10\n",
      "32/32 [==============================] - 1s 27ms/step - loss: 0.6417 - accuracy: 0.7700 - val_loss: 0.7600 - val_accuracy: 0.7180\n",
      "\n",
      "Epoch 00003: saving model to training_1/cp.ckpt\n",
      "Epoch 4/10\n",
      "32/32 [==============================] - 1s 27ms/step - loss: 0.5619 - accuracy: 0.8060 - val_loss: 0.6302 - val_accuracy: 0.7700\n",
      "\n",
      "Epoch 00004: saving model to training_1/cp.ckpt\n",
      "Epoch 5/10\n",
      "32/32 [==============================] - 1s 26ms/step - loss: 0.4757 - accuracy: 0.8380 - val_loss: 0.6147 - val_accuracy: 0.7880\n",
      "\n",
      "Epoch 00005: saving model to training_1/cp.ckpt\n",
      "Epoch 6/10\n",
      "32/32 [==============================] - 1s 27ms/step - loss: 0.4274 - accuracy: 0.8500 - val_loss: 0.5818 - val_accuracy: 0.7940\n",
      "\n",
      "Epoch 00006: saving model to training_1/cp.ckpt\n",
      "Epoch 7/10\n",
      "32/32 [==============================] - 1s 26ms/step - loss: 0.4028 - accuracy: 0.8560 - val_loss: 0.5846 - val_accuracy: 0.7890\n",
      "\n",
      "Epoch 00007: saving model to training_1/cp.ckpt\n",
      "Epoch 8/10\n",
      "32/32 [==============================] - 1s 26ms/step - loss: 0.3610 - accuracy: 0.8700 - val_loss: 0.6038 - val_accuracy: 0.7840\n",
      "\n",
      "Epoch 00008: saving model to training_1/cp.ckpt\n",
      "Epoch 9/10\n",
      "32/32 [==============================] - 1s 26ms/step - loss: 0.3202 - accuracy: 0.8920 - val_loss: 0.5650 - val_accuracy: 0.7930\n",
      "\n",
      "Epoch 00009: saving model to training_1/cp.ckpt\n",
      "Epoch 10/10\n",
      "32/32 [==============================] - 1s 27ms/step - loss: 0.2930 - accuracy: 0.8950 - val_loss: 0.5840 - val_accuracy: 0.8000\n",
      "\n",
      "Epoch 00010: saving model to training_1/cp.ckpt\n"
     ]
    },
    {
     "data": {
      "text/plain": [
       "<keras.callbacks.History at 0x7f7098087dd8>"
      ]
     },
     "execution_count": 5,
     "metadata": {},
     "output_type": "execute_result"
    }
   ],
   "source": [
    "checkpoint_path = \"training_1/cp.ckpt\"\n",
    "checkpoint_dir = os.path.dirname(checkpoint_path)\n",
    "\n",
    "# 모델의 가중치를 저장하는 콜백 만들기\n",
    "cp = ModelCheckpoint(filepath=checkpoint_path,\n",
    "                              save_weights_only=True,\n",
    "                              verbose=1)\n",
    "\n",
    "# 새로운 콜백으로 모델 훈련하기\n",
    "model.fit(train_images, \n",
    "          train_labels,  \n",
    "          epochs=10,\n",
    "          validation_data=(test_images,test_labels),\n",
    "          callbacks=[cp])  # 콜백을 훈련에 전달합니다\n",
    "\n",
    "# 옵티마이저의 상태를 저장하는 것과 관련되어 경고가 발생할 수 있습니다.\n",
    "# 이 경고는 (그리고 이 노트북의 다른 비슷한 경고는) 이전 사용 방식을 권장하지 않기 위함이며 무시해도 좋습니다."
   ]
  },
  {
   "cell_type": "code",
   "execution_count": 6,
   "id": "186ec56e",
   "metadata": {},
   "outputs": [
    {
     "data": {
      "text/plain": [
       "['cp.ckpt.data-00000-of-00001', 'cp.ckpt.index', 'checkpoint']"
      ]
     },
     "execution_count": 6,
     "metadata": {},
     "output_type": "execute_result"
    }
   ],
   "source": [
    "os.listdir(checkpoint_dir)"
   ]
  },
  {
   "cell_type": "markdown",
   "id": "81ce83e4",
   "metadata": {},
   "source": [
    "![checkpoint1](img/checkpoint1.jpg)"
   ]
  },
  {
   "cell_type": "markdown",
   "id": "4c8b8540",
   "metadata": {},
   "source": [
    "### 이제 훈련되지 않은 새로운 모델을 다시 빌드하고 테스트 세트에서 평가합니다. 훈련되지 않은 모델은 확률 수준(~10% 정확도)에서 수행됩니다."
   ]
  },
  {
   "cell_type": "code",
   "execution_count": 7,
   "id": "dbdfaf5f",
   "metadata": {},
   "outputs": [
    {
     "name": "stdout",
     "output_type": "stream",
     "text": [
      "32/32 - 0s - loss: 2.2921 - accuracy: 0.1500\n",
      "훈련되지 않은 모델의 정확도: 15.00%\n"
     ]
    }
   ],
   "source": [
    "# 기본 모델 객체를 만듭니다\n",
    "model = create_model()\n",
    "\n",
    "# 모델을 평가합니다\n",
    "loss, acc = model.evaluate(test_images,  test_labels, verbose=2)\n",
    "print(\"훈련되지 않은 모델의 정확도: {:5.2f}%\".format(100*acc))"
   ]
  },
  {
   "cell_type": "markdown",
   "id": "3b568598",
   "metadata": {},
   "source": [
    "### 두 모델이 동일한 아키텍처를 공유하기만 한다면 두 모델 간에 가중치를 공유할 수 있습니다. 따라서 가중치 전용에서 모델을 복원할 때 원래 모델과 동일한 아키텍처로 모델을 만든 다음 가중치를 설정합니다."
   ]
  },
  {
   "cell_type": "code",
   "execution_count": 8,
   "id": "7439e1ed",
   "metadata": {},
   "outputs": [
    {
     "name": "stdout",
     "output_type": "stream",
     "text": [
      "32/32 - 0s - loss: 0.5840 - accuracy: 0.8000\n",
      "복원된 모델의 정확도: 80.00%\n"
     ]
    }
   ],
   "source": [
    "# 가중치 로드\n",
    "model.load_weights(checkpoint_path)\n",
    "\n",
    "# 모델 재평가\n",
    "loss,acc = model.evaluate(test_images,  test_labels, verbose=2)\n",
    "print(\"복원된 모델의 정확도: {:5.2f}%\".format(100*acc))"
   ]
  },
  {
   "cell_type": "code",
   "execution_count": 9,
   "id": "92cb0c06",
   "metadata": {},
   "outputs": [
    {
     "name": "stdout",
     "output_type": "stream",
     "text": [
      "WARNING:tensorflow:`period` argument is deprecated. Please use `save_freq` to specify the frequency in number of batches seen.\n",
      "Epoch 1/10\n",
      "32/32 [==============================] - 1s 31ms/step - loss: 1.5542 - accuracy: 0.4120 - val_loss: 0.9174 - val_accuracy: 0.6910\n",
      "Epoch 2/10\n",
      "32/32 [==============================] - 1s 27ms/step - loss: 0.8711 - accuracy: 0.6960 - val_loss: 0.8598 - val_accuracy: 0.6850\n",
      "\n",
      "Epoch 00002: saving model to training_2/cp-0002-0.86.ckpt\n",
      "Epoch 3/10\n",
      "32/32 [==============================] - 1s 27ms/step - loss: 0.7035 - accuracy: 0.7460 - val_loss: 0.6899 - val_accuracy: 0.7530\n",
      "Epoch 4/10\n",
      "32/32 [==============================] - 1s 27ms/step - loss: 0.6021 - accuracy: 0.7740 - val_loss: 0.6462 - val_accuracy: 0.7670\n",
      "\n",
      "Epoch 00004: saving model to training_2/cp-0004-0.65.ckpt\n",
      "Epoch 5/10\n",
      "32/32 [==============================] - 1s 27ms/step - loss: 0.4986 - accuracy: 0.8130 - val_loss: 0.6540 - val_accuracy: 0.7760\n",
      "Epoch 6/10\n",
      "32/32 [==============================] - 1s 27ms/step - loss: 0.4177 - accuracy: 0.8560 - val_loss: 0.6834 - val_accuracy: 0.7700\n",
      "\n",
      "Epoch 00006: saving model to training_2/cp-0006-0.68.ckpt\n",
      "Epoch 7/10\n",
      "32/32 [==============================] - 1s 27ms/step - loss: 0.3659 - accuracy: 0.8770 - val_loss: 0.6181 - val_accuracy: 0.7930\n",
      "Epoch 8/10\n",
      "32/32 [==============================] - 1s 28ms/step - loss: 0.4213 - accuracy: 0.8460 - val_loss: 0.5792 - val_accuracy: 0.7970\n",
      "\n",
      "Epoch 00008: saving model to training_2/cp-0008-0.58.ckpt\n",
      "Epoch 9/10\n",
      "32/32 [==============================] - 1s 27ms/step - loss: 0.3460 - accuracy: 0.8790 - val_loss: 0.5769 - val_accuracy: 0.8180\n",
      "Epoch 10/10\n",
      "32/32 [==============================] - 1s 27ms/step - loss: 0.3039 - accuracy: 0.8910 - val_loss: 0.6416 - val_accuracy: 0.8000\n",
      "\n",
      "Epoch 00010: saving model to training_2/cp-0010-0.64.ckpt\n"
     ]
    },
    {
     "data": {
      "text/plain": [
       "<keras.callbacks.History at 0x7f7083cb8c50>"
      ]
     },
     "execution_count": 9,
     "metadata": {},
     "output_type": "execute_result"
    }
   ],
   "source": [
    "# 파일 이름에 에포크 번호를 포함시킵니다(`str.format` 포맷)\n",
    "checkpoint_path = \"training_2/cp-{epoch:04d}-{val_loss:.2f}.ckpt\"\n",
    "checkpoint_dir = os.path.dirname(checkpoint_path)\n",
    "\n",
    "# 다섯 번째 에포크마다 가중치를 저장하기 위한 콜백을 만듭니다\n",
    "cp = ModelCheckpoint(filepath=checkpoint_path, \n",
    "                                verbose=1, \n",
    "                                save_weights_only=True,\n",
    "                                period=2)\n",
    "\n",
    "# 새로운 모델 객체를 만듭니다\n",
    "model = create_model()\n",
    "\n",
    "# `checkpoint_path` 포맷을 사용하는 가중치를 저장합니다\n",
    "model.save_weights(checkpoint_path.format(epoch=0,val_loss=0.0))\n",
    "\n",
    "# 새로운 콜백을 사용하여 모델을 훈련합니다\n",
    "model.fit(train_images, \n",
    "          train_labels,\n",
    "          epochs=10, \n",
    "          validation_data=(test_images,test_labels),\n",
    "          callbacks=[cp],\n",
    "          verbose=1)"
   ]
  },
  {
   "cell_type": "code",
   "execution_count": 10,
   "id": "79f05648",
   "metadata": {},
   "outputs": [
    {
     "data": {
      "text/plain": [
       "['cp-0000-0.00.ckpt.data-00000-of-00001',\n",
       " 'cp-0000-0.00.ckpt.index',\n",
       " 'cp-0010-0.64.ckpt.index',\n",
       " 'cp-0002-0.86.ckpt.data-00000-of-00001',\n",
       " 'cp-0004-0.65.ckpt.data-00000-of-00001',\n",
       " 'cp-0008-0.58.ckpt.index',\n",
       " 'cp-0006-0.68.ckpt.data-00000-of-00001',\n",
       " 'cp-0008-0.58.ckpt.data-00000-of-00001',\n",
       " 'cp-0002-0.86.ckpt.index',\n",
       " 'cp-0010-0.64.ckpt.data-00000-of-00001',\n",
       " 'cp-0006-0.68.ckpt.index',\n",
       " 'cp-0004-0.65.ckpt.index',\n",
       " 'checkpoint']"
      ]
     },
     "execution_count": 10,
     "metadata": {},
     "output_type": "execute_result"
    }
   ],
   "source": [
    "os.listdir(checkpoint_dir)"
   ]
  },
  {
   "cell_type": "markdown",
   "id": "ca5a79f5",
   "metadata": {},
   "source": [
    "![checkpoint2](img/checkpoint2.jpg)"
   ]
  },
  {
   "cell_type": "code",
   "execution_count": 11,
   "id": "56034354",
   "metadata": {},
   "outputs": [
    {
     "data": {
      "text/plain": [
       "'training_2/cp-0010-0.64.ckpt'"
      ]
     },
     "execution_count": 11,
     "metadata": {},
     "output_type": "execute_result"
    }
   ],
   "source": [
    "latest = tf.train.latest_checkpoint(checkpoint_dir)\n",
    "latest"
   ]
  },
  {
   "cell_type": "code",
   "execution_count": 12,
   "id": "8764acbc",
   "metadata": {},
   "outputs": [
    {
     "name": "stdout",
     "output_type": "stream",
     "text": [
      "32/32 - 0s - loss: 0.6416 - accuracy: 0.8000\n",
      "복원된 모델의 정확도: 80.00%\n"
     ]
    }
   ],
   "source": [
    "# 새로운 모델 객체를 만듭니다\n",
    "model = create_model()\n",
    "\n",
    "# 이전에 저장한 가중치를 로드합니다\n",
    "model.load_weights(latest)\n",
    "\n",
    "# 모델을 재평가합니다\n",
    "loss, acc = model.evaluate(test_images,  test_labels, verbose=2)\n",
    "print(\"복원된 모델의 정확도: {:5.2f}%\".format(100*acc))"
   ]
  },
  {
   "cell_type": "markdown",
   "id": "4b2a29f8",
   "metadata": {},
   "source": [
    "## 2. Callback 기능과 Early Stopping을 활용한 Check Point 모델 저장"
   ]
  },
  {
   "cell_type": "code",
   "execution_count": 13,
   "id": "7303bed2",
   "metadata": {},
   "outputs": [
    {
     "name": "stdout",
     "output_type": "stream",
     "text": [
      "\n",
      "Epoch 00001: val_loss improved from inf to 1.26733, saving model to training_3/cp-0001-1.27.ckpt\n",
      "\n",
      "Epoch 00002: val_loss improved from 1.26733 to 0.75793, saving model to training_3/cp-0002-0.76.ckpt\n",
      "\n",
      "Epoch 00003: val_loss did not improve from 0.75793\n",
      "\n",
      "Epoch 00004: val_loss improved from 0.75793 to 0.66036, saving model to training_3/cp-0004-0.66.ckpt\n",
      "\n",
      "Epoch 00005: val_loss did not improve from 0.66036\n",
      "\n",
      "Epoch 00006: val_loss improved from 0.66036 to 0.64664, saving model to training_3/cp-0006-0.65.ckpt\n",
      "\n",
      "Epoch 00007: val_loss improved from 0.64664 to 0.56045, saving model to training_3/cp-0007-0.56.ckpt\n",
      "\n",
      "Epoch 00008: val_loss did not improve from 0.56045\n",
      "\n",
      "Epoch 00009: val_loss did not improve from 0.56045\n",
      "\n",
      "Epoch 00010: val_loss did not improve from 0.56045\n",
      "\n",
      "Epoch 00011: val_loss did not improve from 0.56045\n",
      "\n",
      "Epoch 00012: val_loss did not improve from 0.56045\n"
     ]
    },
    {
     "data": {
      "text/plain": [
       "<keras.callbacks.History at 0x7f7082bac828>"
      ]
     },
     "execution_count": 13,
     "metadata": {},
     "output_type": "execute_result"
    }
   ],
   "source": [
    "# 파일 이름에 에포크 번호를 포함시킵니다(`str.format` 포맷)\n",
    "checkpoint_path = \"training_3/cp-{epoch:04d}-{val_loss:.2f}.ckpt\"\n",
    "checkpoint_dir = os.path.dirname(checkpoint_path)\n",
    "\n",
    "# 다섯 번째 에포크마다 가중치를 저장하기 위한 콜백을 만듭니다\n",
    "early_stopping = EarlyStopping(monitor='val_loss',patience=5)\n",
    "cp = ModelCheckpoint(filepath=checkpoint_path,\n",
    "                                save_weights_only=True,\n",
    "                                verbose=1,\n",
    "                                save_best_only=True)\n",
    "\n",
    "# 새로운 모델 객체를 만듭니다\n",
    "model = create_model()\n",
    "\n",
    "# 새로운 콜백을 사용하여 모델을 훈련합니다\n",
    "model.fit(train_images, \n",
    "          train_labels,\n",
    "          epochs=50, \n",
    "          validation_data=(test_images,test_labels),\n",
    "          callbacks=[early_stopping, cp],\n",
    "          verbose=0)"
   ]
  },
  {
   "cell_type": "code",
   "execution_count": 14,
   "id": "4978d631",
   "metadata": {},
   "outputs": [
    {
     "data": {
      "text/plain": [
       "['cp-0002-0.76.ckpt.data-00000-of-00001',\n",
       " 'cp-0006-0.65.ckpt.index',\n",
       " 'cp-0001-1.27.ckpt.index',\n",
       " 'cp-0006-0.65.ckpt.data-00000-of-00001',\n",
       " 'cp-0001-1.27.ckpt.data-00000-of-00001',\n",
       " 'cp-0004-0.66.ckpt.data-00000-of-00001',\n",
       " 'cp-0002-0.76.ckpt.index',\n",
       " 'cp-0004-0.66.ckpt.index',\n",
       " 'cp-0007-0.56.ckpt.data-00000-of-00001',\n",
       " 'checkpoint',\n",
       " 'cp-0007-0.56.ckpt.index']"
      ]
     },
     "execution_count": 14,
     "metadata": {},
     "output_type": "execute_result"
    }
   ],
   "source": [
    "os.listdir(checkpoint_dir)"
   ]
  },
  {
   "cell_type": "markdown",
   "id": "c6af7bad",
   "metadata": {},
   "source": [
    "![cp_earlystopping](img/cp_earlystopping.jpg)"
   ]
  },
  {
   "cell_type": "code",
   "execution_count": 15,
   "id": "ba00082a",
   "metadata": {
    "scrolled": true
   },
   "outputs": [
    {
     "name": "stdout",
     "output_type": "stream",
     "text": [
      "training_3/cp-0007-0.56.ckpt\n"
     ]
    }
   ],
   "source": [
    "latest = tf.train.latest_checkpoint(checkpoint_dir)\n",
    "print(latest)"
   ]
  },
  {
   "cell_type": "code",
   "execution_count": 16,
   "id": "8cd80cbe",
   "metadata": {},
   "outputs": [
    {
     "name": "stdout",
     "output_type": "stream",
     "text": [
      "32/32 - 0s - loss: 0.5604 - accuracy: 0.8050\n",
      "복원된 모델의 정확도: 80.50%\n"
     ]
    }
   ],
   "source": [
    "# 새로운 모델 객체를 만듭니다\n",
    "model = create_model()\n",
    "\n",
    "# 이전에 저장한 가중치를 로드합니다\n",
    "model.load_weights(latest)\n",
    "\n",
    "# 모델을 재평가합니다\n",
    "loss, acc = model.evaluate(test_images,  test_labels, verbose=2)\n",
    "print(\"복원된 모델의 정확도: {:5.2f}%\".format(100*acc))"
   ]
  },
  {
   "cell_type": "markdown",
   "id": "77eba9f7",
   "metadata": {},
   "source": [
    "## Check Point 모델 저장 파일\n",
    "### 위의 코드는 이진 형식의 훈련된 가중치만 포함하는 check point 형식의 파일 모음에 가중치를 저장합니다. check point에는 다음이 포함됩니다.\n",
    "\n",
    "### (1) 모델의 가중치를 포함하는 하나 이상의 샤드(checkpoint)\n",
    "### (2) 어떤 가중치가 어떤 샤드에 저장되어 있는지 나타내는 인덱스 파일(~.ckpt.index)\n",
    "### (3) 단일 머신에서 모델을 훈련하는 경우 접미사가 .data-00000-of-00001인 하나의 샤드를 갖게 됩니다."
   ]
  },
  {
   "cell_type": "code",
   "execution_count": 17,
   "id": "b8367fb1",
   "metadata": {},
   "outputs": [
    {
     "name": "stdout",
     "output_type": "stream",
     "text": [
      "32/32 - 0s - loss: 0.5604 - accuracy: 0.8050\n",
      "복원된 모델의 정확도: 80.50%\n"
     ]
    }
   ],
   "source": [
    "# 가중치를 저장합니다\n",
    "model.save_weights('checkpoints/my_checkpoint')\n",
    "\n",
    "# 새로운 모델 객체를 만듭니다\n",
    "model = create_model()\n",
    "\n",
    "# 가중치를 복원합니다\n",
    "model.load_weights('checkpoints/my_checkpoint')\n",
    "\n",
    "# 모델을 평가합니다\n",
    "loss,acc = model.evaluate(test_images,  test_labels, verbose=2)\n",
    "print(\"복원된 모델의 정확도: {:5.2f}%\".format(100*acc))"
   ]
  },
  {
   "cell_type": "markdown",
   "id": "749faeff",
   "metadata": {},
   "source": [
    "## 3. SavedModel을 이용한 전체 모델 저장(모델의 구조, 가중치)"
   ]
  },
  {
   "cell_type": "code",
   "execution_count": 18,
   "id": "fb0f37ba",
   "metadata": {},
   "outputs": [
    {
     "name": "stdout",
     "output_type": "stream",
     "text": [
      "Epoch 1/5\n",
      "WARNING:tensorflow:Unresolved object in checkpoint: (root).optimizer.iter\n",
      "WARNING:tensorflow:Unresolved object in checkpoint: (root).optimizer.beta_1\n",
      "WARNING:tensorflow:Unresolved object in checkpoint: (root).optimizer.beta_2\n",
      "WARNING:tensorflow:Unresolved object in checkpoint: (root).optimizer.decay\n",
      "WARNING:tensorflow:Unresolved object in checkpoint: (root).optimizer.learning_rate\n",
      "WARNING:tensorflow:A checkpoint was restored (e.g. tf.train.Checkpoint.restore or tf.keras.Model.load_weights) but not all checkpointed values were used. See above for specific issues. Use expect_partial() on the load status object, e.g. tf.train.Checkpoint.restore(...).expect_partial(), to silence these warnings, or use assert_consumed() to make the check explicit. See https://www.tensorflow.org/guide/checkpoint#loading_mechanics for details.\n",
      "WARNING:tensorflow:Unresolved object in checkpoint: (root).optimizer.iter\n",
      "WARNING:tensorflow:Unresolved object in checkpoint: (root).optimizer.beta_1\n",
      "WARNING:tensorflow:Unresolved object in checkpoint: (root).optimizer.beta_2\n",
      "WARNING:tensorflow:Unresolved object in checkpoint: (root).optimizer.decay\n",
      "WARNING:tensorflow:Unresolved object in checkpoint: (root).optimizer.learning_rate\n",
      "WARNING:tensorflow:A checkpoint was restored (e.g. tf.train.Checkpoint.restore or tf.keras.Model.load_weights) but not all checkpointed values were used. See above for specific issues. Use expect_partial() on the load status object, e.g. tf.train.Checkpoint.restore(...).expect_partial(), to silence these warnings, or use assert_consumed() to make the check explicit. See https://www.tensorflow.org/guide/checkpoint#loading_mechanics for details.\n",
      "WARNING:tensorflow:Unresolved object in checkpoint: (root).optimizer.iter\n",
      "WARNING:tensorflow:Unresolved object in checkpoint: (root).optimizer.beta_1\n",
      "WARNING:tensorflow:Unresolved object in checkpoint: (root).optimizer.beta_2\n",
      "WARNING:tensorflow:Unresolved object in checkpoint: (root).optimizer.decay\n",
      "WARNING:tensorflow:Unresolved object in checkpoint: (root).optimizer.learning_rate\n",
      "WARNING:tensorflow:A checkpoint was restored (e.g. tf.train.Checkpoint.restore or tf.keras.Model.load_weights) but not all checkpointed values were used. See above for specific issues. Use expect_partial() on the load status object, e.g. tf.train.Checkpoint.restore(...).expect_partial(), to silence these warnings, or use assert_consumed() to make the check explicit. See https://www.tensorflow.org/guide/checkpoint#loading_mechanics for details.\n",
      "32/32 [==============================] - 1s 23ms/step - loss: 1.4458 - accuracy: 0.4640\n",
      "Epoch 2/5\n",
      "32/32 [==============================] - 1s 23ms/step - loss: 0.8064 - accuracy: 0.7110\n",
      "Epoch 3/5\n",
      "32/32 [==============================] - 1s 23ms/step - loss: 0.6986 - accuracy: 0.7470\n",
      "Epoch 4/5\n",
      "32/32 [==============================] - 1s 22ms/step - loss: 0.5634 - accuracy: 0.8090\n",
      "Epoch 5/5\n",
      "32/32 [==============================] - 1s 23ms/step - loss: 0.4788 - accuracy: 0.8360\n",
      "INFO:tensorflow:Assets written to: saved_model/my_model/assets\n"
     ]
    }
   ],
   "source": [
    "# 새로운 모델 객체를 만들고 훈련합니다\n",
    "model = create_model()\n",
    "model.fit(train_images, train_labels, epochs=5)\n",
    "\n",
    "# SavedModel로 전체 모델을 저장합니다\n",
    "#!mkdir -p saved_model\n",
    "model.save('saved_model/my_model/')"
   ]
  },
  {
   "cell_type": "code",
   "execution_count": 19,
   "id": "9bdc1d6c",
   "metadata": {},
   "outputs": [
    {
     "data": {
      "text/plain": [
       "['variables', 'assets', 'keras_metadata.pb', 'saved_model.pb']"
      ]
     },
     "execution_count": 19,
     "metadata": {},
     "output_type": "execute_result"
    }
   ],
   "source": [
    "# my_model 디렉토리\n",
    "os.listdir('saved_model')\n",
    "# assests 폴더, saved_model.pb, variables 폴더\n",
    "os.listdir('saved_model/my_model/')"
   ]
  },
  {
   "cell_type": "markdown",
   "id": "9eb9196e",
   "metadata": {},
   "source": [
    "![savedmodel](img/savedmodel.jpg)"
   ]
  },
  {
   "cell_type": "code",
   "execution_count": 20,
   "id": "d8618427",
   "metadata": {},
   "outputs": [
    {
     "name": "stdout",
     "output_type": "stream",
     "text": [
      "Epoch 1/5\n",
      "32/32 [==============================] - 1s 21ms/step - loss: 0.4923 - accuracy: 0.8290\n",
      "Epoch 2/5\n",
      "32/32 [==============================] - 1s 21ms/step - loss: 0.3608 - accuracy: 0.8770\n",
      "Epoch 3/5\n",
      "32/32 [==============================] - 1s 21ms/step - loss: 0.3225 - accuracy: 0.8870\n",
      "Epoch 4/5\n",
      "32/32 [==============================] - 1s 21ms/step - loss: 0.2741 - accuracy: 0.9020\n",
      "Epoch 5/5\n",
      "32/32 [==============================] - 1s 21ms/step - loss: 0.2350 - accuracy: 0.9210\n"
     ]
    },
    {
     "data": {
      "text/plain": [
       "<keras.callbacks.History at 0x7f708390fc18>"
      ]
     },
     "execution_count": 20,
     "metadata": {},
     "output_type": "execute_result"
    }
   ],
   "source": [
    "new_model = tf.keras.models.load_model('saved_model/my_model/')\n",
    "\n",
    "# 복원된 모델을 재훈련합니다.\n",
    "new_model.fit(train_images, train_labels, epochs=5)"
   ]
  },
  {
   "cell_type": "code",
   "execution_count": 21,
   "id": "af2dcce7",
   "metadata": {},
   "outputs": [
    {
     "name": "stdout",
     "output_type": "stream",
     "text": [
      "32/32 - 0s - loss: 0.5763 - accuracy: 0.8150\n",
      "복원된 모델의 정확도: 81.50%\n",
      "(1000, 10)\n"
     ]
    }
   ],
   "source": [
    "# 복원된 모델을 평가합니다\n",
    "loss, acc = new_model.evaluate(test_images, test_labels, verbose=2)\n",
    "print('복원된 모델의 정확도: {:5.2f}%'.format(100*acc))\n",
    "\n",
    "print(new_model.predict(test_images).shape)"
   ]
  },
  {
   "cell_type": "markdown",
   "id": "8dac4743",
   "metadata": {},
   "source": [
    "## 4. HDF5 Model을 이용한 전체 모델 저장(모델의 구조, 가중치)"
   ]
  },
  {
   "cell_type": "code",
   "execution_count": 22,
   "id": "89c843ce",
   "metadata": {},
   "outputs": [
    {
     "name": "stdout",
     "output_type": "stream",
     "text": [
      "Epoch 1/5\n",
      "32/32 [==============================] - 1s 21ms/step - loss: 1.3474 - accuracy: 0.5340\n",
      "Epoch 2/5\n",
      "32/32 [==============================] - 1s 21ms/step - loss: 0.7341 - accuracy: 0.7540\n",
      "Epoch 3/5\n",
      "32/32 [==============================] - 1s 21ms/step - loss: 0.5619 - accuracy: 0.8000\n",
      "Epoch 4/5\n",
      "32/32 [==============================] - 1s 21ms/step - loss: 0.4961 - accuracy: 0.8260\n",
      "Epoch 5/5\n",
      "32/32 [==============================] - 1s 22ms/step - loss: 0.3989 - accuracy: 0.8550\n"
     ]
    }
   ],
   "source": [
    "# hdf5 폴더에 모델을 저장합니다\n",
    "# !mkdir -p hdf5_model\n",
    "\n",
    "# 새로운 모델 객체를 만들고 훈련합니다\n",
    "model = create_model()\n",
    "model.fit(train_images, train_labels, epochs=5)\n",
    "\n",
    "# 전체 모델을 HDF5 파일로 저장합니다\n",
    "# '.h5' 확장자는 이 모델이 HDF5로 저장되었다는 것을 나타냅니다\n",
    "model.save('hdf5/my_model.h5')"
   ]
  },
  {
   "cell_type": "code",
   "execution_count": 23,
   "id": "c7d1a107",
   "metadata": {},
   "outputs": [
    {
     "name": "stdout",
     "output_type": "stream",
     "text": [
      "Model: \"sequential_8\"\n",
      "_________________________________________________________________\n",
      "Layer (type)                 Output Shape              Param #   \n",
      "=================================================================\n",
      "conv2d_24 (Conv2D)           (None, 28, 28, 32)        320       \n",
      "_________________________________________________________________\n",
      "max_pooling2d_16 (MaxPooling (None, 14, 14, 32)        0         \n",
      "_________________________________________________________________\n",
      "conv2d_25 (Conv2D)           (None, 14, 14, 64)        18496     \n",
      "_________________________________________________________________\n",
      "max_pooling2d_17 (MaxPooling (None, 7, 7, 64)          0         \n",
      "_________________________________________________________________\n",
      "conv2d_26 (Conv2D)           (None, 7, 7, 32)          18464     \n",
      "_________________________________________________________________\n",
      "flatten_8 (Flatten)          (None, 1568)              0         \n",
      "_________________________________________________________________\n",
      "dense_24 (Dense)             (None, 128)               200832    \n",
      "_________________________________________________________________\n",
      "dense_25 (Dense)             (None, 32)                4128      \n",
      "_________________________________________________________________\n",
      "dense_26 (Dense)             (None, 10)                330       \n",
      "=================================================================\n",
      "Total params: 242,570\n",
      "Trainable params: 242,570\n",
      "Non-trainable params: 0\n",
      "_________________________________________________________________\n"
     ]
    }
   ],
   "source": [
    "# 가중치와 옵티마이저를 포함하여 정확히 동일한 모델을 다시 생성합니다\n",
    "new_model = tf.keras.models.load_model('hdf5/my_model.h5')\n",
    "\n",
    "# 모델 구조를 출력합니다\n",
    "new_model.summary()"
   ]
  },
  {
   "cell_type": "code",
   "execution_count": 24,
   "id": "e5a15e4f",
   "metadata": {
    "scrolled": true
   },
   "outputs": [
    {
     "name": "stdout",
     "output_type": "stream",
     "text": [
      "32/32 - 0s - loss: 0.5697 - accuracy: 0.8020\n",
      "복원된 모델의 정확도: 80.20%\n"
     ]
    }
   ],
   "source": [
    "loss, acc = new_model.evaluate(test_images,  test_labels, verbose=2)\n",
    "print('복원된 모델의 정확도: {:5.2f}%'.format(100*acc))"
   ]
  },
  {
   "cell_type": "code",
   "execution_count": null,
   "id": "41f9cadd",
   "metadata": {},
   "outputs": [],
   "source": []
  }
 ],
 "metadata": {
  "kernelspec": {
   "display_name": "Python 3",
   "language": "python",
   "name": "python3"
  },
  "language_info": {
   "codemirror_mode": {
    "name": "ipython",
    "version": 3
   },
   "file_extension": ".py",
   "mimetype": "text/x-python",
   "name": "python",
   "nbconvert_exporter": "python",
   "pygments_lexer": "ipython3",
   "version": "3.6.9"
  }
 },
 "nbformat": 4,
 "nbformat_minor": 5
}
