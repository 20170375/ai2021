{
 "cells": [
  {
   "cell_type": "markdown",
   "metadata": {
    "id": "7SkDYxg5ESa-"
   },
   "source": [
    "## CHAPTER05 분류와 군집화로 이해하는 지도학습과 비지도학습 (p.159)"
   ]
  },
  {
   "cell_type": "markdown",
   "metadata": {
    "id": "Q-f3BTa2FXBu"
   },
   "source": [
    "다음은 철수네 동물병원에 치료를 받은 개의 종류와 그 크기 데이터이다. 이 데이터를 바탕으로 k-NN 알고리즘을 적용해 보자.\n",
    "+ 닥스훈트\n",
    "\n",
    "||||||||||\n",
    "|----|--|--|--|--|--|--|--|--|\n",
    "|길이|75|77|83|81|73|99|72|83|\n",
    "|높이|24|29|19|32|21|22|19|34|\n",
    "\n",
    "+ 사모예드\n",
    "\n",
    "||||||||||\n",
    "|----|--|--|--|--|--|--|--|--|\n",
    "|길이|76|78|82|88|76|83|81|89|\n",
    "|높이|55|58|53|54|61|52|57|64|\n",
    "\n",
    "+ 말티즈\n",
    "\n",
    "||||||||||\n",
    "|----|--|--|--|--|--|--|--|--|\n",
    "|길이|35|39|38|41|30|57|41|35|\n",
    "|높이|23|26|19|30|21|24|28|20|"
   ]
  },
  {
   "cell_type": "markdown",
   "metadata": {
    "id": "J3gzK6qyEdcA"
   },
   "source": [
    "### 5.1 위의 정보를 바탕으로 닥스훈트를 0, 사모예드를 1, 말티즈를 2로 레이블링하여 데이터와 레이블을 각각 생성하도록 하여라. 그리고 다음과 같이 각 견종별 데이터를 2차원 배열로 만들어서 출력하여라.\n",
    "\n",
    "\n",
    "```\n",
    "닥스훈트(0) : [[75, 24], [77, 29], [83, 19], [81, 32], [73, 21], [99, 22], [72, 19], [83, 34]]\n",
    "사모예드(1) : [[76, 55], [78, 58], [82, 53], [88, 54], [76, 61], [83, 52], [81, 57], [89, 64]]\n",
    "말티즈(2) : [[35, 23], [39, 26], [38, 19], [41, 30], [30, 21], [57, 24], [41, 28], [35, 20]]\n",
    "```"
   ]
  },
  {
   "cell_type": "code",
   "execution_count": 1,
   "metadata": {
    "colab": {
     "base_uri": "https://localhost:8080/"
    },
    "executionInfo": {
     "elapsed": 307,
     "status": "ok",
     "timestamp": 1632916289915,
     "user": {
      "displayName": "오승원",
      "photoUrl": "https://lh3.googleusercontent.com/a/default-user=s64",
      "userId": "09559947531931876802"
     },
     "user_tz": -540
    },
    "id": "YHtR3mYSDJGf",
    "outputId": "75382e5f-498e-4e68-da69-599da656b409"
   },
   "outputs": [
    {
     "name": "stdout",
     "output_type": "stream",
     "text": [
      "닥스훈트(0) : [[75, 24], [77, 29], [83, 19], [81, 32], [73, 21], [99, 22], [72, 19], [83, 34]]\n",
      "사모예드(1) : [[76, 55], [78, 58], [82, 53], [88, 54], [76, 61], [83, 52], [81, 57], [89, 64]]\n",
      "말티즈(2) : [[35, 23], [39, 26], [38, 19], [41, 30], [30, 21], [57, 24], [41, 28], [35, 20]]\n"
     ]
    }
   ],
   "source": [
    "import numpy as np\n",
    "\n",
    "dach_length = [75, 77, 83, 81, 73, 99, 72, 83]\n",
    "dach_height = [24, 29, 19, 32, 21, 22, 19, 34]\n",
    "samo_length = [76, 78, 82, 88, 76, 83, 81, 89]\n",
    "samo_height = [55, 58, 53, 54, 61, 52, 57, 64]\n",
    "malt_length = [35, 39, 38, 41, 30, 57, 41, 35]\n",
    "malt_height = [23, 26, 19, 30, 21, 24, 28, 20]\n",
    "\n",
    "dach_data = np.column_stack((dach_length, dach_height))\n",
    "samo_data = np.column_stack((samo_length, samo_height))\n",
    "malt_data = np.column_stack((malt_length, malt_height))\n",
    "\n",
    "dach_label = np.zeros(len(dach_data))\n",
    "samo_label = np.ones(len(samo_data))\n",
    "malt_label = np.ones(len(malt_data)) * 2\n",
    "\n",
    "dog_classes = {0:'닥스훈트', 1:'사모예드', 2:'말티즈'}\n",
    "\n",
    "print(\"{}({}) :\".format(dog_classes[0], 0), dach_data.tolist())\n",
    "print(\"{}({}) :\".format(dog_classes[1], 1), samo_data.tolist())\n",
    "print(\"{}({}) :\".format(dog_classes[2], 2), malt_data.tolist())"
   ]
  },
  {
   "cell_type": "markdown",
   "metadata": {
    "id": "eJENGRjNIHxS"
   },
   "source": [
    "### 5.2 k값이 3일때 k-NN 분류기의 분류결과 목표값과 예측결과를 다음과 같은 혼동행렬로 표시하여라.\n",
    "\n",
    "```\n",
    "array([[8, 0, 0],\n",
    "       [0, 8, 0],\n",
    "       [1, 0, 7]])\n",
    "```"
   ]
  },
  {
   "cell_type": "code",
   "execution_count": 2,
   "metadata": {
    "colab": {
     "base_uri": "https://localhost:8080/"
    },
    "executionInfo": {
     "elapsed": 1113,
     "status": "ok",
     "timestamp": 1632916318567,
     "user": {
      "displayName": "오승원",
      "photoUrl": "https://lh3.googleusercontent.com/a/default-user=s64",
      "userId": "09559947531931876802"
     },
     "user_tz": -540
    },
    "id": "pASu8J-YI68T",
    "outputId": "3040018d-e5aa-4b4b-dd98-b3a477aec2c3"
   },
   "outputs": [
    {
     "data": {
      "text/plain": [
       "array([[8, 0, 0],\n",
       "       [0, 8, 0],\n",
       "       [1, 0, 7]])"
      ]
     },
     "execution_count": 2,
     "metadata": {},
     "output_type": "execute_result"
    }
   ],
   "source": [
    "datas  = np.concatenate((dach_data, samo_data, malt_data))\n",
    "labels = np.concatenate((dach_label, samo_label, malt_label))\n",
    "\n",
    "from sklearn.neighbors import KNeighborsClassifier\n",
    "k = 3\n",
    "knn = KNeighborsClassifier(n_neighbors=k)\n",
    "knn.fit(datas, labels)\n",
    "pred = knn.predict(datas)\n",
    "\n",
    "from sklearn.metrics import confusion_matrix\n",
    "conf_mat = confusion_matrix(labels, pred)\n",
    "conf_mat"
   ]
  },
  {
   "cell_type": "markdown",
   "metadata": {
    "id": "Ih0gxnpJI94B"
   },
   "source": [
    "### 5.3 다음과 같은 개의 길이, 높이 데이터 A, B, C, D에 대하여 각각 n_neighbor를 3, 5, 7로 하여 아래와 같이 분류하고 그 분류 결과를 출력하여라.\n",
    "\n",
    "A: 길이 58, 높이 30\n",
    "\n",
    "B: 길이 80, 높이 26\n",
    "\n",
    "C: 길이 80, 높이 41\n",
    "\n",
    "D: 길이 75, 높이 55\n",
    "\n",
    "```\n",
    "A 데이터 분류결과\n",
    "A [[58, 30]] : n_neighbors가 3 일때 : 말티즈\n",
    "A [[58, 30]] : n_neighbors가 5 일때 : 말티즈\n",
    "A [[58, 30]] : n_neighbors가 7 일때 : 닥스훈트\n",
    "```"
   ]
  },
  {
   "cell_type": "code",
   "execution_count": 3,
   "metadata": {
    "colab": {
     "base_uri": "https://localhost:8080/"
    },
    "executionInfo": {
     "elapsed": 330,
     "status": "ok",
     "timestamp": 1632916935347,
     "user": {
      "displayName": "오승원",
      "photoUrl": "https://lh3.googleusercontent.com/a/default-user=s64",
      "userId": "09559947531931876802"
     },
     "user_tz": -540
    },
    "id": "dpjQrkxeJNl0",
    "outputId": "16977ac0-8866-40a0-cff8-ef4692a38391"
   },
   "outputs": [
    {
     "name": "stdout",
     "output_type": "stream",
     "text": [
      "A 데이터 분류 결과\n",
      "A [[58 30]] : n_neighbors가 3 일때 : 말티즈\n",
      "A [[58 30]] : n_neighbors가 5 일때 : 말티즈\n",
      "A [[58 30]] : n_neighbors가 7 일때 : 닥스훈트\n",
      "\n",
      "B 데이터 분류 결과\n",
      "B [[80 26]] : n_neighbors가 3 일때 : 닥스훈트\n",
      "B [[80 26]] : n_neighbors가 5 일때 : 닥스훈트\n",
      "B [[80 26]] : n_neighbors가 7 일때 : 닥스훈트\n",
      "\n",
      "C 데이터 분류 결과\n",
      "C [[80 41]] : n_neighbors가 3 일때 : 닥스훈트\n",
      "C [[80 41]] : n_neighbors가 5 일때 : 닥스훈트\n",
      "C [[80 41]] : n_neighbors가 7 일때 : 사모예드\n",
      "\n",
      "D 데이터 분류 결과\n",
      "D [[75 55]] : n_neighbors가 3 일때 : 말티즈\n",
      "D [[75 55]] : n_neighbors가 5 일때 : 말티즈\n",
      "D [[75 55]] : n_neighbors가 7 일때 : 닥스훈트\n"
     ]
    }
   ],
   "source": [
    "a_length = [58]\n",
    "a_height = [30]\n",
    "a_data  = np.column_stack((a_length, a_height))\n",
    "print(\"A 데이터 분류 결과\")\n",
    "for k in (3, 5, 7):\n",
    "  knn = KNeighborsClassifier(n_neighbors=k)\n",
    "  knn.fit(datas, labels)\n",
    "  a_label = knn.predict(a_data)\n",
    "  print(\"A {} : n_neighbors가 {} 일때 : {}\".format(a_data, k, dog_classes[a_label[0]]))\n",
    "print()\n",
    "\n",
    "b_length = [80]\n",
    "b_height = [26]\n",
    "b_data  = np.column_stack((b_length, b_height))\n",
    "print(\"B 데이터 분류 결과\")\n",
    "for k in (3, 5, 7):\n",
    "  knn = KNeighborsClassifier(n_neighbors=k)\n",
    "  knn.fit(datas, labels)\n",
    "  b_label = knn.predict(b_data)\n",
    "  print(\"B {} : n_neighbors가 {} 일때 : {}\".format(b_data, k, dog_classes[b_label[0]]))\n",
    "print()\n",
    "\n",
    "c_length = [80]\n",
    "c_height = [41]\n",
    "c_data  = np.column_stack((c_length, c_height))\n",
    "print(\"C 데이터 분류 결과\")\n",
    "for k in (3, 5, 7):\n",
    "  knn = KNeighborsClassifier(n_neighbors=k)\n",
    "  knn.fit(datas, labels)\n",
    "  c_label = knn.predict(c_data)\n",
    "  print(\"C {} : n_neighbors가 {} 일때 : {}\".format(c_data, k, dog_classes[c_label[0]]))\n",
    "print()\n",
    "\n",
    "d_length = [75]\n",
    "d_height = [55]\n",
    "d_data  = np.column_stack((d_length, d_height))\n",
    "print(\"D 데이터 분류 결과\")\n",
    "for k in (3, 5, 7):\n",
    "  knn = KNeighborsClassifier(n_neighbors=k)\n",
    "  knn.fit(datas, labels)\n",
    "  d_label = knn.predict(a_data)\n",
    "  print(\"D {} : n_neighbors가 {} 일때 : {}\".format(d_data, k, dog_classes[d_label[0]]))"
   ]
  },
  {
   "cell_type": "markdown",
   "metadata": {
    "id": "dRLJTsf8JhXW"
   },
   "source": [
    "### 5.4 <small>5.3</small>의 결과로 보아 위의 데이터 중에서 k값에 영향을 받지 않는 데이터는 무엇이며 그 이유는 무엇인가 서술하여 보시오."
   ]
  },
  {
   "cell_type": "code",
   "execution_count": 4,
   "metadata": {
    "colab": {
     "base_uri": "https://localhost:8080/"
    },
    "executionInfo": {
     "elapsed": 299,
     "status": "ok",
     "timestamp": 1632921174869,
     "user": {
      "displayName": "오승원",
      "photoUrl": "https://lh3.googleusercontent.com/a/default-user=s64",
      "userId": "09559947531931876802"
     },
     "user_tz": -540
    },
    "id": "KRCtMI44JrnF",
    "outputId": "103a3e61-6b0c-4969-c409-864640bc83d9"
   },
   "outputs": [
    {
     "name": "stdout",
     "output_type": "stream",
     "text": [
      " B 데이터는 k값에 영향을 받지 않는다.\n",
      "이유는 5.5의 결과로 얻은 산포도 그래프에서 볼 수 있듯이 B 데이터의 최근접 이웃\n",
      "7이상이 모두 닥스훈트이므로 (닥스훈트 데이터의 평균점에 가까워서)\n",
      "k값에 영향을 받지 않고 같은 결과를 낸다.\n"
     ]
    }
   ],
   "source": [
    "print(\" B 데이터는 k값에 영향을 받지 않는다.\")\n",
    "print(\"이유는 5.5의 결과로 얻은 산포도 그래프에서 볼 수 있듯이 B 데이터의 최근접 이웃\")\n",
    "print(\"7이상이 모두 닥스훈트이므로 (닥스훈트 데이터의 평균점에 가까워서)\")\n",
    "print(\"k값에 영향을 받지 않고 같은 결과를 낸다.\")"
   ]
  },
  {
   "cell_type": "markdown",
   "metadata": {
    "id": "9cgxH6f2Jw65"
   },
   "source": [
    "### 5.5 <small>5.3</small>번 데이터를 산포도 그래프로 그려서 다음과 같이 A, B, C, D 데이터를 나타내어 보자(이때 가로축은 개의 길이(length)로 두고, 세로축은 높이(height)로 두도록 하자). 시각화를 위해서는 matplotlib.org 웹사이트의 시각화 기법과 다양한 도구를 참고하도록 하자."
   ]
  },
  {
   "cell_type": "code",
   "execution_count": 5,
   "metadata": {
    "colab": {
     "base_uri": "https://localhost:8080/",
     "height": 313
    },
    "executionInfo": {
     "elapsed": 327,
     "status": "ok",
     "timestamp": 1632920275167,
     "user": {
      "displayName": "오승원",
      "photoUrl": "https://lh3.googleusercontent.com/a/default-user=s64",
      "userId": "09559947531931876802"
     },
     "user_tz": -540
    },
    "id": "NPx6Pc7mKDqr",
    "outputId": "10d5dd52-b663-4f80-c448-2a7690c707a5"
   },
   "outputs": [
    {
     "data": {
      "text/plain": [
       "Text(0, 0.5, 'Height')"
      ]
     },
     "execution_count": 5,
     "metadata": {},
     "output_type": "execute_result"
    },
    {
     "data": {
      "image/png": "[encoded data removed]",
      "text/plain": [
       "<Figure size 432x288 with 1 Axes>"
      ]
     },
     "metadata": {
      "needs_background": "light"
     },
     "output_type": "display_data"
    }
   ],
   "source": [
    "import matplotlib.pyplot as plt\n",
    "\n",
    "plt.scatter(dach_data[:,0], dach_data[:,1], marker='o', color='red', label='Dachshund')\n",
    "plt.scatter(samo_data[:,0], samo_data[:,1], marker='^', color='blue', label='Samoyed')\n",
    "plt.scatter(malt_data[:,0], malt_data[:,1], marker='s', color='green', label='Maltese')\n",
    "plt.scatter(a_data[:,0], a_data[:,1], marker='o', s=250, color='purple', label='A')\n",
    "plt.scatter(b_data[:,0], b_data[:,1], marker='o', s=250, color='grey', label='B')\n",
    "plt.scatter(c_data[:,0], c_data[:,1], marker='o', s=250, color='cyan', label='C')\n",
    "plt.scatter(d_data[:,0], d_data[:,1], marker='o', s=250, color='green', label='D')\n",
    "plt.legend(loc='upper left')\n",
    "plt.title('Dog size')\n",
    "plt.xlabel('Length')\n",
    "plt.ylabel('Height')"
   ]
  },
  {
   "cell_type": "markdown",
   "metadata": {
    "id": "FHRb-SlKKFr2"
   },
   "source": [
    "### 5.6 원래의 데이터와 A, B, C, D 데이터를 모두 포함한 dog_data를 만들도록 하자. 이 때 데이터가 가진 모든 레이블을 삭제하고 k-평균 알고리즘을 적용하여 클러스터링을 수행하고, 다음과 같이 k가 2, 3, 4일 때의 수행결과를 시각화하도록 하자."
   ]
  },
  {
   "cell_type": "code",
   "execution_count": 6,
   "metadata": {
    "colab": {
     "base_uri": "https://localhost:8080/",
     "height": 408
    },
    "executionInfo": {
     "elapsed": 1256,
     "status": "ok",
     "timestamp": 1632919296701,
     "user": {
      "displayName": "오승원",
      "photoUrl": "https://lh3.googleusercontent.com/a/default-user=s64",
      "userId": "09559947531931876802"
     },
     "user_tz": -540
    },
    "id": "xknLHYBxKWO-",
    "outputId": "263d89c9-0c96-4041-f7e8-6a80d88f5c92"
   },
   "outputs": [
    {
     "name": "stdout",
     "output_type": "stream",
     "text": [
      "(28, 2)\n"
     ]
    },
    {
     "data": {
      "image/png": "[encoded data removed]",
      "text/plain": [
       "<Figure size 720x432 with 4 Axes>"
      ]
     },
     "metadata": {
      "needs_background": "light"
     },
     "output_type": "display_data"
    }
   ],
   "source": [
    "dog_data = np.concatenate((datas, a_data, b_data, c_data, d_data))\n",
    "print(dog_data.shape)\n",
    "\n",
    "from sklearn import cluster\n",
    "\n",
    "def kmeans_predict_plot(X, k, loc):\n",
    "  model = cluster.KMeans(n_clusters=k)\n",
    "  model.fit(X)\n",
    "  labels = model.predict(X)\n",
    "  colors = np.array(['red', 'green', 'blue', 'magenta'])\n",
    "  plt.subplot(loc)\n",
    "  plt.title('k-Means clustering k={}'.format(k))\n",
    "  plt.scatter(X[:,0], X[:,1], color=colors[labels])\n",
    "\n",
    "plt.figure(figsize=(10, 6))\n",
    "\n",
    "plt.subplot(221)\n",
    "plt.title('Dog data without label')\n",
    "plt.scatter(dog_data[:,0], dog_data[:,1], color='blue')\n",
    "\n",
    "kmeans_predict_plot(dog_data, 2, 222)\n",
    "kmeans_predict_plot(dog_data, 3, 223)\n",
    "kmeans_predict_plot(dog_data, 4, 224)"
   ]
  },
  {
   "cell_type": "code",
   "execution_count": null,
   "metadata": {},
   "outputs": [],
   "source": []
  }
 ],
 "metadata": {
  "colab": {
   "authorship_tag": "ABX9TyNolAf10j7HJoofbgl8iDX4",
   "collapsed_sections": [
    "J3gzK6qyEdcA",
    "eJENGRjNIHxS",
    "Ih0gxnpJI94B",
    "dRLJTsf8JhXW",
    "9cgxH6f2Jw65",
    "FHRb-SlKKFr2"
   ],
   "name": "Chapter05.ipynb",
   "provenance": []
  },
  "kernelspec": {
   "display_name": "Python 3",
   "language": "python",
   "name": "python3"
  },
  "language_info": {
   "codemirror_mode": {
    "name": "ipython",
    "version": 3
   },
   "file_extension": ".py",
   "mimetype": "text/x-python",
   "name": "python",
   "nbconvert_exporter": "python",
   "pygments_lexer": "ipython3",
   "version": "3.6.9"
  }
 },
 "nbformat": 4,
 "nbformat_minor": 1
}
