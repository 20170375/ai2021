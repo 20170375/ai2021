{
 "cells": [
  {
   "cell_type": "markdown",
   "id": "b2b5de6a",
   "metadata": {},
   "source": [
    "# CHAPTER04 선형 회귀로 이해하는 지도학습 (p.129)"
   ]
  },
  {
   "cell_type": "code",
   "execution_count": 1,
   "id": "5225d3b6",
   "metadata": {},
   "outputs": [],
   "source": [
    "import numpy as np\n",
    "import pandas as pd\n",
    "import matplotlib.pyplot as plt\n",
    "from sklearn import linear_model"
   ]
  },
  {
   "cell_type": "markdown",
   "id": "5dddcd44",
   "metadata": {},
   "source": [
    "## 4.1 다음은 P 자동차 회사의 차종과 마력, 그리고 평균연비(단위 : km/l)를 나타내는 표이다.\n",
    "||A|B|C|D|E|F|G|\n",
    "|:---|---:|---:|---:|---:|---:|---:|---:|\n",
    "|마력|130|250|190|300|210|220|170|\n",
    "|연비|16.3|10.2|11.1|7.1|12.1|13.2|14.2|"
   ]
  },
  {
   "cell_type": "markdown",
   "id": "489a7156",
   "metadata": {},
   "source": [
    "### 1) P 자동차 회사의 마력과 연비 사이에는 어떤 상관관계가 있을까? 선형 회귀 분석을 통해서 선형 회귀 모델의 절편과 계수를 구하여라. 마지막으로 이 선형 회귀 모델이 입력 마력 값에 대해 연비를 예측하는 데 얼마나 적합한지 예측 점수를 출력해 보라.\n",
    "계수 : [-0.05027473]\n",
    "\n",
    "절편 : 22.58626373626374\n",
    "\n",
    "예측 점수 : 0.8706727649378526"
   ]
  },
  {
   "cell_type": "code",
   "execution_count": 2,
   "id": "f32fe118",
   "metadata": {},
   "outputs": [
    {
     "name": "stdout",
     "output_type": "stream",
     "text": [
      "계수 : [-0.05027473]\n",
      "절편 : 22.58626373626374\n",
      "예측 점수 : 0.8706727649378526\n"
     ]
    }
   ],
   "source": [
    "horsepower = pd.Series([130, 250, 190, 300, 210, 220, 170])\n",
    "efficiency = pd.Series([16.3, 10.2, 11.1, 7.1, 12.1, 13.2, 14.2])\n",
    "df = pd.DataFrame({'horse power': horsepower, 'efficiency': efficiency})\n",
    "\n",
    "x = df['horse power'].to_numpy()\n",
    "y = df['efficiency'].to_numpy()\n",
    "x = x[:, np.newaxis]\n",
    "\n",
    "regr = linear_model.LinearRegression()\n",
    "regr.fit(x, y)\n",
    "\n",
    "print(\"계수 :\", regr.coef_)\n",
    "print(\"절편 :\", regr.intercept_)\n",
    "print(\"예측 점수 :\", regr.score(x, y))"
   ]
  },
  {
   "cell_type": "markdown",
   "id": "35e68309",
   "metadata": {},
   "source": [
    "### 2) 위의 선형 회귀 모델을 바탕으로 270 마력의 신형엔진을 가진 자동차를 개발하려 한다. 이 자동차의 연비를 선형 회귀 모델에 적용하여 다음과 같이 구해 보자. 출력은 다음과 같이 소수점 둘째 자리까지 출력해 보라.\n",
    "270 마력 자동차의 예상 연비 : 9.01 km/l"
   ]
  },
  {
   "cell_type": "code",
   "execution_count": 3,
   "id": "b009f96a",
   "metadata": {},
   "outputs": [
    {
     "name": "stdout",
     "output_type": "stream",
     "text": [
      "270 마력 자동차의 예상 연비 : 9.01 km/l\n"
     ]
    }
   ],
   "source": [
    "# w * x + b\n",
    "print(\"270 마력 자동차의 예상 연비 :\" ,round((regr.coef_*270 + regr.intercept_)[0], 2), \"km/l\")"
   ]
  },
  {
   "cell_type": "markdown",
   "id": "4b5462d9",
   "metadata": {},
   "source": [
    "## 4.2 자동차의 연비에 영향을 미치는 요소는 마력뿐만 아니라 총중량도 중요한 요소가 될 것이다. 다음은 P 자동차 회사의 차종과 마력, 뿐만아니라 자동차의 총중량(단위 : kg)을 추가한 표이다.\n",
    "||A|B|C|D|E|F|G|\n",
    "|:---|---:|---:|---:|---:|---:|---:|---:|\n",
    "|마력|130|250|190|300|210|220|170|\n",
    "|총중량|1,900|2,600|2,200|2,900|2,400|2,300|2,100|\n",
    "|연비|16.3|10.2|11.1|7.1|12.1|13.2|14.2|"
   ]
  },
  {
   "cell_type": "markdown",
   "id": "a67023c9",
   "metadata": {},
   "source": [
    "### 1) 위의 자료를 바탕으로 적절한 선형 회귀 모델을 구현하여라. 이 모델의 계수와 절편, 예측모델의 점수를 출력하라.\n",
    "계수 : [-0.00689189 -0.00731081]\n",
    "\n",
    "절편 : 30.60405405405405\n",
    "\n",
    "예측 점수 : 0.887125404119239"
   ]
  },
  {
   "cell_type": "code",
   "execution_count": 4,
   "id": "092909c0",
   "metadata": {},
   "outputs": [
    {
     "name": "stdout",
     "output_type": "stream",
     "text": [
      "계수 : [-0.00689189 -0.00731081]\n",
      "절편 : 30.60405405405405\n",
      "예측 점수 : 0.887125404119239\n"
     ]
    }
   ],
   "source": [
    "horsepower = pd.Series([130, 250, 190, 300, 210, 220, 170])\n",
    "weight     = pd.Series([1900, 2600, 2200, 2900, 2400, 2300, 2100])\n",
    "efficiency = pd.Series([16.3, 10.2, 11.1, 7.1, 12.1, 13.2, 14.2])\n",
    "df = pd.DataFrame({'horse power': horsepower, 'weight': weight, 'efficiency': efficiency})\n",
    "\n",
    "x = df[['horse power', 'weight']].to_numpy()\n",
    "y = df['efficiency'].to_numpy()\n",
    "\n",
    "regr = linear_model.LinearRegression()\n",
    "regr.fit(x, y)\n",
    "\n",
    "print(\"계수 :\", regr.coef_)\n",
    "print(\"절편 :\", regr.intercept_)\n",
    "print(\"예측 점수 :\", regr.score(x, y))"
   ]
  },
  {
   "cell_type": "markdown",
   "id": "db945be8",
   "metadata": {},
   "source": [
    "### 2) 위의 선형 회귀 모델을 바탕으로 270마력의 신형엔진을 가진 총중량 2,500kg의 자동차를 개발하려 한다. 이 자동차의 연비를 선형 회귀 모델에 적용하여 다음과 같이 구해 보라.\n",
    "270 마력 2500kg 자동차의 예상 연비 : 10.47 km/l"
   ]
  },
  {
   "cell_type": "code",
   "execution_count": 5,
   "id": "b05150f3",
   "metadata": {},
   "outputs": [
    {
     "name": "stdout",
     "output_type": "stream",
     "text": [
      "270 마력 2500kg 자동차의 예상 연비 : 10.47 km/l\n"
     ]
    }
   ],
   "source": [
    "# w1 * x1 + w2 * x2 + b\n",
    "print(\"270 마력 2500kg 자동차의 예상 연비 :\", round(regr.coef_[0]*270+regr.coef_[1]*2500+regr.intercept_, 2), \"km/l\")"
   ]
  },
  {
   "cell_type": "markdown",
   "id": "c1f65cd6",
   "metadata": {},
   "source": [
    "### 3) 마력과 총중량, 연비 사이의 상관관계를 쌍플롯으로 그려 보라."
   ]
  },
  {
   "cell_type": "code",
   "execution_count": 6,
   "id": "b56aa4b2",
   "metadata": {},
   "outputs": [
    {
     "data": {
      "text/plain": [
       "<seaborn.axisgrid.PairGrid at 0x7f61dc5f3b38>"
      ]
     },
     "execution_count": 6,
     "metadata": {},
     "output_type": "execute_result"
    },
    {
     "data": {
      "image/png": "[encoded data removed]",
      "text/plain": [
       "<Figure size 540x540 with 12 Axes>"
      ]
     },
     "metadata": {
      "needs_background": "light"
     },
     "output_type": "display_data"
    }
   ],
   "source": [
    "import seaborn as sns\n",
    "sns.pairplot(df[['horse power', 'weight', 'efficiency']])"
   ]
  },
  {
   "cell_type": "markdown",
   "id": "fada0dcf",
   "metadata": {},
   "source": [
    "### 4) 마력과 총중량, 연비사이의 상관관계를 seaborn의 히트맵으로 가시화해 보라."
   ]
  },
  {
   "cell_type": "code",
   "execution_count": 7,
   "id": "f75d042a",
   "metadata": {},
   "outputs": [
    {
     "data": {
      "text/plain": [
       "<AxesSubplot:>"
      ]
     },
     "execution_count": 7,
     "metadata": {},
     "output_type": "execute_result"
    },
    {
     "data": {
      "image/png": "[encoded data removed]",
      "text/plain": [
       "<Figure size 432x288 with 2 Axes>"
      ]
     },
     "metadata": {
      "needs_background": "light"
     },
     "output_type": "display_data"
    }
   ],
   "source": [
    "correlation_matrix = df.corr().round(2) # 상관행렬 생성\n",
    "sns.heatmap(data=correlation_matrix, annot=True)"
   ]
  },
  {
   "cell_type": "markdown",
   "id": "879e80c8",
   "metadata": {},
   "source": [
    "### 5) 앞서 풀어 본 3), 4)의 내용을 바탕으로 마력, 총중량, 연비의 상관관계를 조사하고 이를 3개 이상의 문장으로 요약 정리하라."
   ]
  },
  {
   "cell_type": "markdown",
   "id": "97e3de02",
   "metadata": {},
   "source": [
    "각각은 자기 자신과 상관관계가 모두 1로 정비례한다.\n",
    "\n",
    "마력과 총중량은 0.99, 1로 거의 정비례한다.\n",
    "\n",
    "반면 연비는 마력과 총중량 둘 모두와 -0.93, -0.94로 거의 정반비례한다."
   ]
  },
  {
   "cell_type": "code",
   "execution_count": null,
   "id": "a1c7dcbc",
   "metadata": {},
   "outputs": [],
   "source": []
  }
 ],
 "metadata": {
  "kernelspec": {
   "display_name": "Python 3",
   "language": "python",
   "name": "python3"
  },
  "language_info": {
   "codemirror_mode": {
    "name": "ipython",
    "version": 3
   },
   "file_extension": ".py",
   "mimetype": "text/x-python",
   "name": "python",
   "nbconvert_exporter": "python",
   "pygments_lexer": "ipython3",
   "version": "3.6.9"
  }
 },
 "nbformat": 4,
 "nbformat_minor": 5
}
