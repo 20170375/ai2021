{
 "cells": [
  {
   "cell_type": "markdown",
   "metadata": {},
   "source": [
    "# CHAPTER03 구형을 위한 도구 (p.89)"
   ]
  },
  {
   "cell_type": "code",
   "execution_count": 1,
   "metadata": {},
   "outputs": [],
   "source": [
    "import numpy as np\n",
    "import pandas as pd\n",
    "import sklearn\n",
    "import tensorflow\n",
    "import keras"
   ]
  },
  {
   "cell_type": "markdown",
   "metadata": {},
   "source": [
    "## 3.1 난수로 이루어진 10,000 x 10,000 형태의 정수 배열을 생성하여라. 이 배열의 요소는 모두 1억 개이며, 원소는 0에서 9사이의 값으로 이루어져 있다."
   ]
  },
  {
   "cell_type": "code",
   "execution_count": 2,
   "metadata": {},
   "outputs": [
    {
     "name": "stdout",
     "output_type": "stream",
     "text": [
      "(10000, 10000)\n"
     ]
    },
    {
     "data": {
      "text/plain": [
       "array([[8, 8, 5, ..., 9, 3, 3],\n",
       "       [9, 1, 1, ..., 3, 6, 4],\n",
       "       [9, 6, 9, ..., 0, 9, 6],\n",
       "       ...,\n",
       "       [9, 9, 5, ..., 6, 7, 5],\n",
       "       [3, 9, 9, ..., 1, 4, 5],\n",
       "       [6, 5, 2, ..., 0, 6, 3]])"
      ]
     },
     "execution_count": 2,
     "metadata": {},
     "output_type": "execute_result"
    }
   ],
   "source": [
    "nparray = np.random.randint(0, 10, size=(10000, 10000))\n",
    "print(nparray.shape)\n",
    "nparray"
   ]
  },
  {
   "cell_type": "markdown",
   "metadata": {},
   "source": [
    "### 1) 이 배열의 모든 요소를 1 증가시키는 코드를 작성하라."
   ]
  },
  {
   "cell_type": "code",
   "execution_count": 3,
   "metadata": {},
   "outputs": [
    {
     "data": {
      "text/plain": [
       "array([[ 9,  9,  6, ..., 10,  4,  4],\n",
       "       [10,  2,  2, ...,  4,  7,  5],\n",
       "       [10,  7, 10, ...,  1, 10,  7],\n",
       "       ...,\n",
       "       [10, 10,  6, ...,  7,  8,  6],\n",
       "       [ 4, 10, 10, ...,  2,  5,  6],\n",
       "       [ 7,  6,  3, ...,  1,  7,  4]])"
      ]
     },
     "execution_count": 3,
     "metadata": {},
     "output_type": "execute_result"
    }
   ],
   "source": [
    "nparray += 1\n",
    "nparray"
   ]
  },
  {
   "cell_type": "markdown",
   "metadata": {},
   "source": [
    "### 2) 이 배열의 짝수번째 행을 모두 0으로 만들어 행렬을 다음과 같이 만들어 보라."
   ]
  },
  {
   "cell_type": "code",
   "execution_count": 4,
   "metadata": {
    "scrolled": true
   },
   "outputs": [
    {
     "name": "stdout",
     "output_type": "stream",
     "text": [
      "(10000, 10000)\n"
     ]
    },
    {
     "data": {
      "text/plain": [
       "array([[ 9,  9,  6, ..., 10,  4,  4],\n",
       "       [ 0,  0,  0, ...,  0,  0,  0],\n",
       "       [10,  7, 10, ...,  1, 10,  7],\n",
       "       ...,\n",
       "       [ 0,  0,  0, ...,  0,  0,  0],\n",
       "       [ 4, 10, 10, ...,  2,  5,  6],\n",
       "       [ 0,  0,  0, ...,  0,  0,  0]])"
      ]
     },
     "execution_count": 4,
     "metadata": {},
     "output_type": "execute_result"
    }
   ],
   "source": [
    "for i in range(0, nparray.shape[0]):\n",
    "    if i % 2 == 1:\n",
    "        nparray[i] = 0\n",
    "print(nparray.shape)\n",
    "nparray"
   ]
  },
  {
   "cell_type": "markdown",
   "metadata": {},
   "source": [
    "### 3) 앞 문제의 결과로 얻은 배열에서 홀수번째 열을 모두 0으로 만들어 다음과 같은 행렬을 얻어 보라."
   ]
  },
  {
   "cell_type": "code",
   "execution_count": 5,
   "metadata": {},
   "outputs": [
    {
     "name": "stdout",
     "output_type": "stream",
     "text": [
      "(10000, 10000)\n"
     ]
    },
    {
     "data": {
      "text/plain": [
       "array([[ 0,  9,  0, ..., 10,  0,  4],\n",
       "       [ 0,  0,  0, ...,  0,  0,  0],\n",
       "       [ 0,  7,  0, ...,  1,  0,  7],\n",
       "       ...,\n",
       "       [ 0,  0,  0, ...,  0,  0,  0],\n",
       "       [ 0, 10,  0, ...,  2,  0,  6],\n",
       "       [ 0,  0,  0, ...,  0,  0,  0]])"
      ]
     },
     "execution_count": 5,
     "metadata": {},
     "output_type": "execute_result"
    }
   ],
   "source": [
    "mask = np.array([1] * 10000)\n",
    "for i in range(0, mask.shape[0]):\n",
    "    if i % 2 == 0:\n",
    "        mask[i] = 0\n",
    "nparray *= mask\n",
    "print(nparray.shape)\n",
    "nparray"
   ]
  },
  {
   "cell_type": "markdown",
   "metadata": {},
   "source": [
    "## 3.2 다음은 P 자동차 회사의 차종별(A, B, C,..) 마력, 총중량, 그리고 연비를 나타낸 표이다.\n",
    "||A|B|C|D|E|F|G|\n",
    "|:---|---:|---:|---:|---:|---:|---:|---:|\n",
    "|마력|130|250|190|300|210|220|170|\n",
    "|총중량|1,900|2,600|2,200|2,900|2,400|2,300|2,200|\n",
    "|연비|16.3|10.2|11.1|7.1|12.1|13.2|14.2|"
   ]
  },
  {
   "cell_type": "markdown",
   "metadata": {},
   "source": [
    "### 1) 이 표를 판다스 데이터프레임으로 만들어 다음과 같이 출력해 보라."
   ]
  },
  {
   "cell_type": "code",
   "execution_count": 6,
   "metadata": {},
   "outputs": [
    {
     "name": "stdout",
     "output_type": "stream",
     "text": [
      "  name  horse power  weight  efficiency\n",
      "0    A          130     1.9        16.3\n",
      "1    B          250     2.6        10.2\n",
      "2    C          190     2.2        11.1\n",
      "3    D          300     2.9         7.1\n",
      "4    E          210     2.4        12.1\n",
      "5    F          220     2.3        13.2\n",
      "6    G          170     2.2        14.2\n"
     ]
    }
   ],
   "source": [
    "name = pd.Series(['A', 'B', 'C', 'D', 'E', 'F', 'G'])\n",
    "horsepower = pd.Series([130, 250, 190, 300, 210, 220, 170])\n",
    "weight = pd.Series([1.9, 2.6, 2.2, 2.9, 2.4, 2.3, 2.2])\n",
    "efficiency = pd.Series([16.3, 10.2, 11.1, 7.1, 12.1, 13.2, 14.2])\n",
    "df = pd.DataFrame({'name': name, 'horse power': horsepower, 'weight': weight, 'efficiency': efficiency})\n",
    "print(df)"
   ]
  },
  {
   "cell_type": "markdown",
   "metadata": {},
   "source": [
    "### 2) 이 데이터프레임의 name 열을 인덱스로 지정하여 다음과 같이 고쳐보라."
   ]
  },
  {
   "cell_type": "code",
   "execution_count": 7,
   "metadata": {},
   "outputs": [
    {
     "name": "stdout",
     "output_type": "stream",
     "text": [
      "      horse power  weight  efficiency\n",
      "name                                 \n",
      "A             130     1.9        16.3\n",
      "B             250     2.6        10.2\n",
      "C             190     2.2        11.1\n",
      "D             300     2.9         7.1\n",
      "E             210     2.4        12.1\n",
      "F             220     2.3        13.2\n",
      "G             170     2.2        14.2\n"
     ]
    }
   ],
   "source": [
    "df2 = df.set_index('name')\n",
    "print(df2)"
   ]
  },
  {
   "cell_type": "markdown",
   "metadata": {},
   "source": [
    "### 3) 마력과 연비를 고려하여 차를 선택하려고 한다. 마력과 연비를 곱한 값이 가장 큰 차종을 다음과 같이 찾아 출력하라.\n",
    "마력과 연비를 곱한 값중 최대값을 가진 차종 : F"
   ]
  },
  {
   "cell_type": "code",
   "execution_count": 8,
   "metadata": {},
   "outputs": [
    {
     "name": "stdout",
     "output_type": "stream",
     "text": [
      "마력과 연비를 곱한 값중 최대값을 가진 차종 : F\n"
     ]
    }
   ],
   "source": [
    "df3 = df\n",
    "df3['h x f'] = df3['horse power'] * df3['efficiency']\n",
    "print(\"마력과 연비를 곱한 값중 최대값을 가진 차종 :\", df3['name'][df3['h x f'].idxmax()])"
   ]
  },
  {
   "cell_type": "code",
   "execution_count": null,
   "metadata": {},
   "outputs": [],
   "source": []
  },
  {
   "cell_type": "code",
   "execution_count": null,
   "metadata": {},
   "outputs": [],
   "source": []
  }
 ],
 "metadata": {
  "kernelspec": {
   "display_name": "Python 3",
   "language": "python",
   "name": "python3"
  },
  "language_info": {
   "codemirror_mode": {
    "name": "ipython",
    "version": 3
   },
   "file_extension": ".py",
   "mimetype": "text/x-python",
   "name": "python",
   "nbconvert_exporter": "python",
   "pygments_lexer": "ipython3",
   "version": "3.6.9"
  }
 },
 "nbformat": 4,
 "nbformat_minor": 2
}
