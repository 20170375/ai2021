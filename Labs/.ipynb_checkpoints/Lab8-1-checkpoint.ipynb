{
 "cells": [
  {
   "cell_type": "markdown",
   "metadata": {
    "id": "GyIkPENuoQL-"
   },
   "source": [
    "### LAB<sup>8-1</sup> Fashion-MNIST 데이터 분류하기 (p.306)"
   ]
  },
  {
   "cell_type": "markdown",
   "metadata": {
    "id": "Kr2wHuWFomb3"
   },
   "source": [
    "**실습목표**\n",
    "\n",
    "케라스 모듈에는 다음과 같이 **운동화나 셔츠같은 옷과 신발의 이미지와 레이블을 제공**하고 있다. 이 이미지의 갯수는 MNIST와 동일하게 6만장이며 28x28 픽셀 크기로 저장되어 있다. 그리고 테스트를 위한 데이터로 1만장의 이미지도 따로 준비되어 잇다."
   ]
  },
  {
   "cell_type": "markdown",
   "metadata": {
    "id": "ILUPrjilo9or"
   },
   "source": [
    "#### 1. 텐서플로우와 넘파이, 맷플롯립을 임포트하여 프로그램을 작성할 준비를 한다."
   ]
  },
  {
   "cell_type": "code",
   "execution_count": 1,
   "metadata": {
    "id": "iJqKJOXPoKI0"
   },
   "outputs": [],
   "source": [
    "# tensorflow와 tf.keras를 임포트한다.\n",
    "import tensorflow as tf\n",
    "from tensorflow import keras\n",
    "import numpy as np\n",
    "import matplotlib.pyplot as plt"
   ]
  },
  {
   "cell_type": "markdown",
   "metadata": {
    "id": "Dz1IuankpN7u"
   },
   "source": [
    "#### 2. 케라스 API가 제공하는 패션 MNIST를 읽어 온다."
   ]
  },
  {
   "cell_type": "code",
   "execution_count": 2,
   "metadata": {
    "id": "dI5eWonwpNc5"
   },
   "outputs": [
    {
     "name": "stdout",
     "output_type": "stream",
     "text": [
      "Downloading data from https://storage.googleapis.com/tensorflow/tf-keras-datasets/train-labels-idx1-ubyte.gz\n",
      "32768/29515 [=================================] - 0s 0us/step\n",
      "40960/29515 [=========================================] - 0s 0us/step\n",
      "Downloading data from https://storage.googleapis.com/tensorflow/tf-keras-datasets/train-images-idx3-ubyte.gz\n",
      "26427392/26421880 [==============================] - 5s 0us/step\n",
      "26435584/26421880 [==============================] - 5s 0us/step\n",
      "Downloading data from https://storage.googleapis.com/tensorflow/tf-keras-datasets/t10k-labels-idx1-ubyte.gz\n",
      "16384/5148 [===============================================================================================] - 0s 0us/step\n",
      "Downloading data from https://storage.googleapis.com/tensorflow/tf-keras-datasets/t10k-images-idx3-ubyte.gz\n",
      "4423680/4422102 [==============================] - 1s 0us/step\n",
      "4431872/4422102 [==============================] - 1s 0us/step\n"
     ]
    }
   ],
   "source": [
    "# 패션 MNIST 데이터는 keras에서 제공함. 이를 학습용, 테스트 데이터로 구분.\n",
    "fashion_mnist = keras.datasets.fashion_mnist\n",
    "(train_images, train_labels), (test_images, test_labels) = fashion_mnist.load_data()"
   ]
  },
  {
   "cell_type": "markdown",
   "metadata": {
    "id": "ekY-Qgncpioc"
   },
   "source": [
    "#### 3. 데이터 읽기가 끝나면 훈련 데이터와 정답 레이블, 테스트 데이터의 모양을 살펴 보자."
   ]
  },
  {
   "cell_type": "code",
   "execution_count": 3,
   "metadata": {
    "colab": {
     "base_uri": "https://localhost:8080/"
    },
    "executionInfo": {
     "elapsed": 8,
     "status": "ok",
     "timestamp": 1636115526228,
     "user": {
      "displayName": "오승원",
      "photoUrl": "https://lh3.googleusercontent.com/a/default-user=s64",
      "userId": "09559947531931876802"
     },
     "user_tz": -540
    },
    "id": "rXvK3kdPph-R",
    "outputId": "1eeb3bd3-8e1e-4b8c-96d7-d35fc15da47e"
   },
   "outputs": [
    {
     "name": "stdout",
     "output_type": "stream",
     "text": [
      "(60000, 28, 28)\n",
      "[9 0 0 ... 3 0 5]\n",
      "(10000, 28, 28)\n"
     ]
    }
   ],
   "source": [
    "print(train_images.shape) # 학습 이미지의 형태와 레이블을 출력한다.\n",
    "print(train_labels)\n",
    "print(test_images.shape)"
   ]
  },
  {
   "cell_type": "markdown",
   "metadata": {
    "id": "0S8e3xC3pvlY"
   },
   "source": [
    "#### 4. 어떤 이미지들인지 확인하기 위해 맷플롯립을 이용하여 처음 3개의 훈련 데이터를 그려본다."
   ]
  },
  {
   "cell_type": "code",
   "execution_count": 4,
   "metadata": {
    "colab": {
     "base_uri": "https://localhost:8080/",
     "height": 149
    },
    "executionInfo": {
     "elapsed": 537,
     "status": "ok",
     "timestamp": 1636115526763,
     "user": {
      "displayName": "오승원",
      "photoUrl": "https://lh3.googleusercontent.com/a/default-user=s64",
      "userId": "09559947531931876802"
     },
     "user_tz": -540
    },
    "id": "IntuZ02ppuzI",
    "outputId": "f79a7b67-31a3-4dca-deeb-685092981218"
   },
   "outputs": [
    {
     "data": {
      "image/png": "[encoded data removed]",
      "text/plain": [
       "<Figure size 432x288 with 3 Axes>"
      ]
     },
     "metadata": {
      "needs_background": "light"
     },
     "output_type": "display_data"
    }
   ],
   "source": [
    "fig = plt.figure()\n",
    "ax1 = fig.add_subplot(1, 3, 1)\n",
    "ax2 = fig.add_subplot(1, 3, 2)\n",
    "ax3 = fig.add_subplot(1, 3, 3)\n",
    "\n",
    "ax1.imshow(train_images[0])     # 첫 번째 훈련용 데이터\n",
    "ax2.imshow(train_images[1])     # 두 번째 훈련용 데이터\n",
    "ax3.imshow(train_images[2])     # 세 번째 훈련용 데이터\n",
    "plt.show()"
   ]
  },
  {
   "cell_type": "markdown",
   "metadata": {
    "id": "ZobDyGSyqEet"
   },
   "source": [
    "#### 5. 위에서 그린 이미지들의 정답 레이블을 확인해 보자."
   ]
  },
  {
   "cell_type": "code",
   "execution_count": 5,
   "metadata": {
    "colab": {
     "base_uri": "https://localhost:8080/"
    },
    "executionInfo": {
     "elapsed": 12,
     "status": "ok",
     "timestamp": 1636115526764,
     "user": {
      "displayName": "오승원",
      "photoUrl": "https://lh3.googleusercontent.com/a/default-user=s64",
      "userId": "09559947531931876802"
     },
     "user_tz": -540
    },
    "id": "Yf4btTFcp1QK",
    "outputId": "cc4775a8-599d-46f4-f963-56d448e83c61"
   },
   "outputs": [
    {
     "name": "stdout",
     "output_type": "stream",
     "text": [
      "[9 0 0]\n"
     ]
    }
   ],
   "source": [
    "print(train_labels[:3])"
   ]
  },
  {
   "cell_type": "markdown",
   "metadata": {
    "id": "C9z-kAJhqK_j"
   },
   "source": [
    "#### 6. 입력 픽셀값이 0에서 1 사이가 되도록 한 후 모델을 만들어 보자. 데이터가 바뀌었지만, 손글씨를 담고 있던 MNIST 데이터를 다루는 것과 특별한 차이가 없다. 입력에서 첫 은닉층으로 연결될 때 20%의 드롭아웃을 설정했다."
   ]
  },
  {
   "cell_type": "code",
   "execution_count": 6,
   "metadata": {
    "colab": {
     "base_uri": "https://localhost:8080/"
    },
    "executionInfo": {
     "elapsed": 9,
     "status": "ok",
     "timestamp": 1636115526764,
     "user": {
      "displayName": "오승원",
      "photoUrl": "https://lh3.googleusercontent.com/a/default-user=s64",
      "userId": "09559947531931876802"
     },
     "user_tz": -540
    },
    "id": "9Vq9hKB-38fA",
    "outputId": "741d6afe-34a2-426c-b9f1-ffdc416d055e"
   },
   "outputs": [
    {
     "name": "stdout",
     "output_type": "stream",
     "text": [
      "(60000, 784)\n",
      "(10000, 784)\n"
     ]
    }
   ],
   "source": [
    "# 수정사항 (2) 훈련집합의 ‘train_images’ 특징벡터 행렬(60000 x 28 x 28)을 (60000 x 784) 행렬 크기로 변환하여라.\n",
    "# 또한 테스트 집합의 ‘test_images’ 특징벡터 행렬(10000 x 28 x 28)을 (10000 x 784) 행렬 크기로 변환하여라.\n",
    "size = len(train_images[0]) * len(train_images[0][0])   # 28 x 28 = 784\n",
    "train_images_resized = train_images.reshape(len(train_images), size)\n",
    "test_images_resized  = test_images.reshape(len(test_images), size)\n",
    "\n",
    "print(train_images_resized.shape)\n",
    "print(test_images_resized.shape)"
   ]
  },
  {
   "cell_type": "code",
   "execution_count": 7,
   "metadata": {
    "id": "4_8OBOh4qKjT"
   },
   "outputs": [],
   "source": [
    "# 0-255 구간의 픽셀값을 실수로 정규화한다.\n",
    "train_images, test_images = train_images / 255, test_images / 255\n",
    "# model = keras.models.Sequential([\n",
    "#     keras.layers.Flatten(input_shape=(28,28)),\n",
    "#     keras.layers.Dropout(0.2),\n",
    "#     keras.layers.Dense(128, activation='relu'),\n",
    "#     keras.layers.Dense(32, activation='relu'),\n",
    "#     keras.layers.Dense(10, activation='softmax'),\n",
    "# ])"
   ]
  },
  {
   "cell_type": "code",
   "execution_count": 8,
   "metadata": {
    "id": "Acb22M-A4Abr"
   },
   "outputs": [],
   "source": [
    "# 0-255 구간의 픽셀값을 실수로 정규화한다.\n",
    "train_images_resized, test_images_resized = train_images_resized / 255, test_images_resized / 255\n",
    "\n",
    "# 수정사항 (4) 인공신경망은 128개, 128개, 64개의 노드를 가진 3개의 은닉층을 갖는다.\n",
    "model = keras.models.Sequential([\n",
    "    keras.layers.Dropout(0.2),\n",
    "    keras.layers.Dense(128, activation='relu'),\n",
    "    keras.layers.Dense(128, activation='relu'),\n",
    "    keras.layers.Dense(64, activation='relu'),\n",
    "    keras.layers.Dense(10, activation='softmax'),\n",
    "])"
   ]
  },
  {
   "cell_type": "code",
   "execution_count": 9,
   "metadata": {
    "id": "t2ra8uyY9_fV"
   },
   "outputs": [],
   "source": [
    "# 수정사항 (3) ScikitLearn 라이브러리를 이용하여 'train_images'와 'test_images'특징벡터 행렬을\n",
    "#  정규화(normalization)와 표준화(standardization)을 수행하라.\n",
    "\n",
    "from sklearn.preprocessing import MinMaxScaler\n",
    "min_max_scaler = MinMaxScaler() # 정규화\n",
    "train_images_resized_norm = min_max_scaler.fit_transform(train_images_resized)\n",
    "test_images_resized_norm  = min_max_scaler.fit_transform(test_images_resized)\n",
    "\n",
    "from sklearn.preprocessing import StandardScaler\n",
    "standard_scaler = StandardScaler() # 표준화\n",
    "train_images_resized_norm_scaled = standard_scaler.fit_transform(train_images_resized_norm)\n",
    "test_images_resized_norm_scaled  = standard_scaler.fit_transform(test_images_resized_norm)\n",
    "\n",
    "# renaming (too long alias)\n",
    "train_data = train_images_resized_norm_scaled\n",
    "test_data  = test_images_resized_norm_scaled"
   ]
  },
  {
   "cell_type": "markdown",
   "metadata": {
    "id": "Ngis5-KfqxY_"
   },
   "source": [
    "#### 7. 이제 모델을 컴파일하고 훈련을 수행해 보자. 이때 10 에폭을 사용하고, 훈련 과정에서 75%의 데이터는 학습에 사용하고, 25%는 검증에 사용하는 교차검증 기법으로 훈련한다. 모델의 훈련 과정은 history라는 변수에 담아서 matplotlib으로 시각화시킬 수도 있다."
   ]
  },
  {
   "cell_type": "code",
   "execution_count": 10,
   "metadata": {
    "id": "ox2DeJqKqxCS"
   },
   "outputs": [],
   "source": [
    "model.compile(optimizer='adam',\n",
    "              loss='sparse_categorical_crossentropy',\n",
    "              metrics=['accuracy'])\n",
    "# history = model.fit(train_images, train_labels, batch_size=64, epochs=10, validation_split=0.25)"
   ]
  },
  {
   "cell_type": "code",
   "execution_count": 11,
   "metadata": {
    "id": "ykmGHy3N4CWF"
   },
   "outputs": [],
   "source": [
    "# 수정사항 (1) 200 에폭을 사용하고, 훈련 과정에서 75%의 데이터는 학습에 사용하고, 25%는 검증에 사용하는 교차검증 기법을 훈련한다.\n",
    "history = model.fit(train_data, train_labels, batch_size=64, epochs=200, validation_split=0.25, verbose=0)"
   ]
  },
  {
   "cell_type": "markdown",
   "metadata": {
    "id": "bWXK-5qarhYJ"
   },
   "source": [
    "#### 8. 훈련과정에서 기록된 손실과 정확도를 그려보자. 파란색은 훈련용 데이터에 대한 손실과 정확도, 붉은색 점선은 교차검증용 데이터에 대한 손실과 정확도이다."
   ]
  },
  {
   "cell_type": "code",
   "execution_count": 12,
   "metadata": {
    "colab": {
     "base_uri": "https://localhost:8080/",
     "height": 286
    },
    "executionInfo": {
     "elapsed": 718,
     "status": "ok",
     "timestamp": 1636115994679,
     "user": {
      "displayName": "오승원",
      "photoUrl": "https://lh3.googleusercontent.com/a/default-user=s64",
      "userId": "09559947531931876802"
     },
     "user_tz": -540
    },
    "id": "pE8d2XcVrQsp",
    "outputId": "6f66d94e-dc6a-47be-c23f-ed44983e15ca"
   },
   "outputs": [
    {
     "data": {
      "text/plain": [
       "[<matplotlib.lines.Line2D at 0x7f6f6894fa58>]"
      ]
     },
     "execution_count": 12,
     "metadata": {},
     "output_type": "execute_result"
    },
    {
     "data": {
      "image/png": "[encoded data removed]",
      "text/plain": [
       "<Figure size 864x288 with 2 Axes>"
      ]
     },
     "metadata": {
      "needs_background": "light"
     },
     "output_type": "display_data"
    }
   ],
   "source": [
    "plt.figure(figsize=(12, 4))\n",
    "plt.subplot(121)\n",
    "plt.plot(history.history['loss'], 'b-')\n",
    "plt.plot(history.history['val_loss'], 'r--')\n",
    "\n",
    "plt.subplot(122)\n",
    "plt.plot(history.history['accuracy'], 'b-')\n",
    "plt.plot(history.history['val_accuracy'], 'r--')"
   ]
  },
  {
   "cell_type": "markdown",
   "metadata": {
    "id": "wr-jDok1tHWX"
   },
   "source": [
    "#### 9. 훈련 과정에서 본 적이 없는 새로운 데이터를 이용하여 모델의 학습 결과를 테스트하도록 하자. 모델이 가진 evaluate() 함수를 사용하고, 따로 가지고 있는 test_images를 넘겨 평가를 하게 한다."
   ]
  },
  {
   "cell_type": "code",
   "execution_count": 13,
   "metadata": {
    "id": "xBw_HvvOsK9C"
   },
   "outputs": [],
   "source": [
    "# test_loss, test_acc = model.evaluate(test_images, test_labels, verbose=2)\n",
    "# print('테스트 정확도:', test_acc)"
   ]
  },
  {
   "cell_type": "code",
   "execution_count": 14,
   "metadata": {
    "colab": {
     "base_uri": "https://localhost:8080/"
    },
    "executionInfo": {
     "elapsed": 18,
     "status": "ok",
     "timestamp": 1636115994685,
     "user": {
      "displayName": "오승원",
      "photoUrl": "https://lh3.googleusercontent.com/a/default-user=s64",
      "userId": "09559947531931876802"
     },
     "user_tz": -540
    },
    "id": "KqrewU3A4ngJ",
    "outputId": "815f6431-b4fc-4b16-9aa1-4a5dc854c5c7"
   },
   "outputs": [
    {
     "name": "stdout",
     "output_type": "stream",
     "text": [
      "313/313 - 1s - loss: 0.6636 - accuracy: 0.8866\n",
      "테스트 정확도: 0.8866000175476074\n"
     ]
    }
   ],
   "source": [
    "test_loss, test_acc = model.evaluate(test_data, test_labels, verbose=2)\n",
    "print('테스트 정확도:', test_acc)"
   ]
  },
  {
   "cell_type": "markdown",
   "metadata": {
    "id": "EoR3Ws2dtcw2"
   },
   "source": [
    "#### 10. 난수로 인덱스를 발생시켜 테스트 데이터에서 임의의 이미지를 하나 가져와 보자."
   ]
  },
  {
   "cell_type": "code",
   "execution_count": 15,
   "metadata": {
    "colab": {
     "base_uri": "https://localhost:8080/",
     "height": 284
    },
    "executionInfo": {
     "elapsed": 718,
     "status": "ok",
     "timestamp": 1636115995390,
     "user": {
      "displayName": "오승원",
      "photoUrl": "https://lh3.googleusercontent.com/a/default-user=s64",
      "userId": "09559947531931876802"
     },
     "user_tz": -540
    },
    "id": "gGHDKHvttb0b",
    "outputId": "e3f13983-ee20-4899-f3e1-cc6d9b34c985"
   },
   "outputs": [
    {
     "data": {
      "text/plain": [
       "<matplotlib.image.AxesImage at 0x7f6f6886d0f0>"
      ]
     },
     "execution_count": 15,
     "metadata": {},
     "output_type": "execute_result"
    },
    {
     "data": {
      "image/png": "[encoded data removed]",
      "text/plain": [
       "<Figure size 432x288 with 1 Axes>"
      ]
     },
     "metadata": {
      "needs_background": "light"
     },
     "output_type": "display_data"
    }
   ],
   "source": [
    "randIdx = np.random.randint(0, 1000)\n",
    "plt.imshow(test_images[randIdx])"
   ]
  },
  {
   "cell_type": "markdown",
   "metadata": {
    "id": "Kf__P6BKtnWG"
   },
   "source": [
    "#### 11. 이 이미지를 모델에 제공하여 어떤 클래스에 속하는지 분류해 보도록 하자. "
   ]
  },
  {
   "cell_type": "markdown",
   "metadata": {
    "id": "T-5EGuhnxCsn"
   },
   "source": [
    "가져온 이미지의 형태를 확인하면 (28,28)이 나온다. 그런데 모델은 데이터의 배열을 입력으로 받기 때문에 newaxis를 이용하여 축을 하나 증가시켜 (1, 28, 28) 크기의 배열로 만든다. 이미지가 하나 있는 배열이다. 이렇게 변환된 이미지의 배열을 모델에 넘겨 예측하게 한 뒤 예측값을 출력해 보자. 이 값은 round(3)을 이용하여 소수점 아래 3자리 정밀도를 가지는 10개의 예측 확률값으로 나타난다."
   ]
  },
  {
   "cell_type": "code",
   "execution_count": 16,
   "metadata": {
    "colab": {
     "base_uri": "https://localhost:8080/"
    },
    "executionInfo": {
     "elapsed": 19,
     "status": "ok",
     "timestamp": 1636115995391,
     "user": {
      "displayName": "오승원",
      "photoUrl": "https://lh3.googleusercontent.com/a/default-user=s64",
      "userId": "09559947531931876802"
     },
     "user_tz": -540
    },
    "id": "AjAvoZ9rtmcz",
    "outputId": "aa416baf-67c1-4b2e-cd63-6edc6cb63162"
   },
   "outputs": [
    {
     "name": "stdout",
     "output_type": "stream",
     "text": [
      "(28, 28)\n",
      "(1, 28, 28)\n"
     ]
    }
   ],
   "source": [
    "print(test_images[randIdx].shape)\n",
    "new_image = test_images[randIdx][np.newaxis, :, :]\n",
    "print(new_image.shape)\n",
    "\n",
    "# yhat = model.predict(new_image)\n",
    "# print(yhat.round(3))    # 소수점 아래 세 자리 정확도로 살펴보자"
   ]
  },
  {
   "cell_type": "code",
   "execution_count": 17,
   "metadata": {
    "colab": {
     "base_uri": "https://localhost:8080/"
    },
    "executionInfo": {
     "elapsed": 17,
     "status": "ok",
     "timestamp": 1636115995392,
     "user": {
      "displayName": "오승원",
      "photoUrl": "https://lh3.googleusercontent.com/a/default-user=s64",
      "userId": "09559947531931876802"
     },
     "user_tz": -540
    },
    "id": "la4yKHxl5deQ",
    "outputId": "a19a7e47-1e87-45eb-f2f0-14294ea7c494"
   },
   "outputs": [
    {
     "name": "stdout",
     "output_type": "stream",
     "text": [
      "[[0. 0. 0. 0. 0. 0. 0. 0. 0. 1.]]\n"
     ]
    }
   ],
   "source": [
    "new_data = test_data[randIdx][np.newaxis, :]\n",
    "\n",
    "yhat = model.predict(new_data)\n",
    "print(yhat.round(3))    # 소수점 아래 세 자리 정확도로 살펴보자"
   ]
  },
  {
   "cell_type": "markdown",
   "metadata": {
    "id": "LMN0o8ggu9DD"
   },
   "source": [
    "#### 12. 우리가 관심 있는 것은 가장 큰 값을 갖는 것이 몇 번째 원소인지를 아는 것이다. 이것은 넘파이의 argmax() 함수를 이용하면 된다. 예측한 결과에 이 함수를 적용하면 아래와 같이 가장 큰 값을 갖는 출력을 알 수 있다."
   ]
  },
  {
   "cell_type": "code",
   "execution_count": 18,
   "metadata": {
    "id": "sfYC6qXTuRAj"
   },
   "outputs": [],
   "source": [
    "# yhat = np.argmax( model.predict( test_images[randIdx][np.newaxis, :, :]) )\n",
    "# yhat"
   ]
  },
  {
   "cell_type": "code",
   "execution_count": 19,
   "metadata": {
    "colab": {
     "base_uri": "https://localhost:8080/"
    },
    "executionInfo": {
     "elapsed": 18,
     "status": "ok",
     "timestamp": 1636115995396,
     "user": {
      "displayName": "오승원",
      "photoUrl": "https://lh3.googleusercontent.com/a/default-user=s64",
      "userId": "09559947531931876802"
     },
     "user_tz": -540
    },
    "id": "hfVHPng35XIF",
    "outputId": "bbf0f980-5228-4085-fea2-b2979d1c3d2b"
   },
   "outputs": [
    {
     "data": {
      "text/plain": [
       "9"
      ]
     },
     "execution_count": 19,
     "metadata": {},
     "output_type": "execute_result"
    }
   ],
   "source": [
    "yhat = np.argmax( model.predict( test_data[randIdx][np.newaxis, :]) )\n",
    "yhat"
   ]
  },
  {
   "cell_type": "markdown",
   "metadata": {
    "id": "zlT6k91WvSMp"
   },
   "source": [
    "#### 13. 앞의 예측에서 0 이라는 값을 얻었지만, 이것이 무엇인지 바로 파악하기 힘들다. 이런 클래스를 나타내는 숫자를 문자열로 바꾸기 위해 다음과 같은 리스트를 정의하자."
   ]
  },
  {
   "cell_type": "code",
   "execution_count": 20,
   "metadata": {
    "id": "7Q-mnEREvRgS"
   },
   "outputs": [],
   "source": [
    "class_names = ['T-shirt/top', 'Trouser', 'Pullover', 'Dress', 'Coat',\n",
    "              'Sandal', 'Shirt', 'Sneaker', 'Bag', 'Ankle boot']"
   ]
  },
  {
   "cell_type": "markdown",
   "metadata": {
    "id": "J-PD57m4vaSS"
   },
   "source": [
    "#### 14. 그러면 클래스 번호를 인덱스로 클래스의 이름을 확인할 수 있다."
   ]
  },
  {
   "cell_type": "code",
   "execution_count": 21,
   "metadata": {
    "colab": {
     "base_uri": "https://localhost:8080/"
    },
    "executionInfo": {
     "elapsed": 16,
     "status": "ok",
     "timestamp": 1636115995397,
     "user": {
      "displayName": "오승원",
      "photoUrl": "https://lh3.googleusercontent.com/a/default-user=s64",
      "userId": "09559947531931876802"
     },
     "user_tz": -540
    },
    "id": "rhJChc0CvfN5",
    "outputId": "7de1b6bd-e535-40dd-ddf2-6e848ae8b083"
   },
   "outputs": [
    {
     "name": "stdout",
     "output_type": "stream",
     "text": [
      "Ankle boot\n"
     ]
    }
   ],
   "source": [
    "print(class_names[yhat])"
   ]
  },
  {
   "cell_type": "markdown",
   "metadata": {
    "id": "Cy3FkiiTvp-N"
   },
   "source": [
    "#### 15. 여러 개의 그림을 그리는 함수를 만들어 보려고 한다. "
   ]
  },
  {
   "cell_type": "markdown",
   "metadata": {
    "id": "Bvi7eS5VxAeg"
   },
   "source": [
    "인자는 이미지의 리스트, 그리고 각 이미지가 속한 클래스를 표시하는 숫자 레이블이 담긴 리스트, 그리고 그림을 한 행에 몇 개를 배치할지 정하는 값을 images_per_row에 넘긴다. 코드의 내용은 서브플롯을 이용하여 이미지를 출력하면서 각 이미지마다 레이블 값을 문자열로 바꾸어 제목으로 다는 것이다."
   ]
  },
  {
   "cell_type": "code",
   "execution_count": 22,
   "metadata": {
    "id": "b8vHz6ervoyU"
   },
   "outputs": [],
   "source": [
    "def plot_images(images, labels, images_per_row=5):\n",
    "    n_images = len(images)\n",
    "    n_rows = (n_images-1) // images_per_row + 1\n",
    "    fig, ax = plt.subplots(n_rows, images_per_row, \n",
    "                         figsize = (images_per_row * 2, n_rows * 2))\n",
    "    for i in range(n_rows):\n",
    "        for j in range(images_per_row):\n",
    "            if i*images_per_row + j >= n_images: break\n",
    "            img_idx = i*images_per_row + j\n",
    "            a_image = images[img_idx].reshape(28,28)\n",
    "            if n_rows>1:  axis = ax[i, j]\n",
    "            else:         axis = ax[j]\n",
    "            axis.get_xaxis().set_visible(False)\n",
    "            axis.get_yaxis().set_visible(False)\n",
    "            label = class_names[labels[img_idx]]\n",
    "            axis.set_title(label)\n",
    "            axis.imshow(a_image, interpolation='nearest')"
   ]
  },
  {
   "cell_type": "markdown",
   "metadata": {
    "id": "Zx-BADJlv_oJ"
   },
   "source": [
    "#### 16. 이제 테스트 데이터에서 처음 25개의 데이터를 가져 오고, 이 데이터를 모델에 제공해 분류를 하게 해 볼 것이다. "
   ]
  },
  {
   "cell_type": "markdown",
   "metadata": {
    "id": "Di-aH3jxw90i"
   },
   "source": [
    "분류는 앞서 살펴본 것처럼 10개의 원소를 가진 배열에 확률로 출력될 것이다. 이 배열 25개 담긴 2차원 배열이 결과가 반환되는데, axis=1을 지정하여 각 행별로 argmax()가 이루어지게 하면 25개 데이터가 각각 속한 클래스 번호로 이루어진 배열을 얻을 수 있다. 이것을 출력해 보자. 그리고 이미지와 레이블, 그리고 한 줄에 5개씩 출력하라는 인자를 조금 전에 만든 plot_images에 넘기면 25개의 그림이 분류된 클래스의 이름과 함께 출력된다."
   ]
  },
  {
   "cell_type": "code",
   "execution_count": 23,
   "metadata": {
    "id": "CUXB4myqv_NM"
   },
   "outputs": [],
   "source": [
    "images = test_images[:25]\n",
    "# predictions = np.argmax(model.predict(images), axis=1)\n",
    "# print(predictions)\n",
    "# plot_images(images, predictions, images_per_row=5)"
   ]
  },
  {
   "cell_type": "code",
   "execution_count": 24,
   "metadata": {
    "colab": {
     "base_uri": "https://localhost:8080/",
     "height": 613
    },
    "executionInfo": {
     "elapsed": 1530,
     "status": "ok",
     "timestamp": 1636115996913,
     "user": {
      "displayName": "오승원",
      "photoUrl": "https://lh3.googleusercontent.com/a/default-user=s64",
      "userId": "09559947531931876802"
     },
     "user_tz": -540
    },
    "id": "-CQYoq7JycFr",
    "outputId": "f0b828e3-291d-43da-af5d-43f419d360d0"
   },
   "outputs": [
    {
     "name": "stdout",
     "output_type": "stream",
     "text": [
      "[9 2 1 1 0 1 4 6 5 7 4 5 7 3 4 1 2 2 8 0 2 5 7 5 1]\n"
     ]
    },
    {
     "data": {
      "image/png": "[encoded data removed]",
      "text/plain": [
       "<Figure size 720x720 with 25 Axes>"
      ]
     },
     "metadata": {
      "needs_background": "light"
     },
     "output_type": "display_data"
    }
   ],
   "source": [
    "image_data = test_data[:25]\n",
    "predictions = np.argmax(model.predict(image_data), axis=1)\n",
    "print(predictions)\n",
    "plot_images(images, predictions, images_per_row=5)"
   ]
  },
  {
   "cell_type": "code",
   "execution_count": null,
   "metadata": {
    "id": "3zaIzLTfQwmu"
   },
   "outputs": [],
   "source": []
  }
 ],
 "metadata": {
  "colab": {
   "authorship_tag": "ABX9TyN3I5S7soz6N9Q5bY97uDWl",
   "collapsed_sections": [
    "ILUPrjilo9or",
    "Dz1IuankpN7u",
    "ekY-Qgncpioc",
    "0S8e3xC3pvlY",
    "ZobDyGSyqEet"
   ],
   "name": "Lab8-1.ipynb",
   "provenance": []
  },
  "kernelspec": {
   "display_name": "Python 3",
   "language": "python",
   "name": "python3"
  },
  "language_info": {
   "codemirror_mode": {
    "name": "ipython",
    "version": 3
   },
   "file_extension": ".py",
   "mimetype": "text/x-python",
   "name": "python",
   "nbconvert_exporter": "python",
   "pygments_lexer": "ipython3",
   "version": "3.6.9"
  }
 },
 "nbformat": 4,
 "nbformat_minor": 1
}
